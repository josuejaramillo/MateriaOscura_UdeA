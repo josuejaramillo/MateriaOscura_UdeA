{
 "cells": [
  {
   "cell_type": "code",
   "execution_count": 3,
   "id": "fc065305-cb4c-400f-ad45-da47f541b3fb",
   "metadata": {},
   "outputs": [],
   "source": [
    "import numpy as np\n",
    "import pandas as pd\n",
    "import matplotlib.pyplot as plt\n",
    "import mplhep as hep\n",
    "import os"
   ]
  },
  {
   "cell_type": "code",
   "execution_count": 19,
   "id": "3b69b6c5-70a1-4293-a3b2-29db590fa40f",
   "metadata": {},
   "outputs": [
    {
     "name": "stdout",
     "output_type": "stream",
     "text": [
      "Files and directories in ' /home/tomas/Documents/UdeA_Results/DM ' :\n"
     ]
    },
    {
     "data": {
      "text/plain": [
       "['pt_miss_histogram_monojet_BM_toy_my_950_GeV_mDM_10_GeV_gDM_1.csv',\n",
       " 'pt_miss_histogram_monojet_BM_toy_my_900_GeV_mDM_10_GeV_gDM_1.csv',\n",
       " 'pt_miss_histogram_monojet_BM_toy_my_850_GeV_mDM_10_GeV_gDM_1.csv',\n",
       " 'pt_miss_histogram_monojet_BM_toy_my_800_GeV_mDM_10_GeV_gDM_1.csv',\n",
       " 'pt_miss_histogram_monojet_BM_toy_my_750_GeV_mDM_10_GeV_gDM_1.csv',\n",
       " 'pt_miss_histogram_monojet_BM_toy_my_700_GeV_mDM_10_GeV_gDM_1.csv',\n",
       " 'pt_miss_histogram_monojet_BM_toy_my_650_GeV_mDM_10_GeV_gDM_1.csv',\n",
       " 'pt_miss_histogram_monojet_BM_toy_my_600_GeV_mDM_10_GeV_gDM_1.csv',\n",
       " 'pt_miss_histogram_monojet_BM_toy_my_550_GeV_mDM_10_GeV_gDM_1.csv',\n",
       " 'pt_miss_histogram_monojet_BM_toy_my_500_GeV_mDM_10_GeV_gDM_1.csv',\n",
       " 'pt_miss_histogram_monojet_BM_toy_my_1200_GeV_mDM_10_GeV_gDM_1.csv',\n",
       " 'pt_miss_histogram_monojet_BM_toy_my_1150_GeV_mDM_10_GeV_gDM_1.csv',\n",
       " 'pt_miss_histogram_monojet_BM_toy_my_1100_GeV_mDM_10_GeV_gDM_1.csv',\n",
       " 'pt_miss_histogram_monojet_BM_toy_my_1050_GeV_mDM_10_GeV_gDM_1.csv',\n",
       " 'pt_miss_histogram_monojet_BM_toy_my_1000_GeV_mDM_10_GeV_gDM_1.csv']"
      ]
     },
     "execution_count": 19,
     "metadata": {},
     "output_type": "execute_result"
    }
   ],
   "source": [
    "# Get the list of all files and directories\n",
    "path = \"/home/tomas/Documents/UdeA_Results/DM\"\n",
    "dir_list = os.listdir(path)\n",
    " \n",
    "print(\"Files and directories in '\", path, \"' :\")\n",
    " \n",
    "dir_list.sort(reverse = True)\n",
    "\n",
    "\n",
    "dir_list.remove('pt_miss_histogram_monojet_BM_toy_my_1000_GeV_mDM_100_GeV_gDM_1.csv')#.remove('pt_miss_histogram_monojet_BM_toy_my_1000_GeV_mDM_400_GeV_gDM_1.csv')\n",
    "dir_list.remove('pt_miss_histogram_monojet_BM_toy_my_1000_GeV_mDM_400_GeV_gDM_1.csv')\n"
   ]
  },
  {
   "cell_type": "code",
   "execution_count": 20,
   "id": "085a8773-7a89-4dc1-81c6-a30ac6705fa8",
   "metadata": {},
   "outputs": [],
   "source": [
    "labels = ['$m(y)=950$ GeV',\n",
    "          '$m(y)=900$ GeV',\n",
    "          '$m(y)=850$ GeV',\n",
    "          '$m(y)=800$ GeV',\n",
    "          '$m(y)=750$ GeV',\n",
    "          '$m(y)=700$ GeV',\n",
    "          '$m(y)=650$ GeV',\n",
    "          '$m(y)=600$ GeV',\n",
    "          '$m(y)=550$ GeV',\n",
    "          '$m(y)=500$ GeV',\n",
    "          '$m(y)=1200$ GeV',\n",
    "          '$m(y)=1150$ GeV',\n",
    "          '$m(y)=1100$ GeV',\n",
    "          '$m(y)=1050$ GeV',\n",
    "          '$m(y)=1000$ GeV']"
   ]
  },
  {
   "cell_type": "code",
   "execution_count": null,
   "id": "e736801d-2135-4ebe-bae4-b0dedf16a712",
   "metadata": {},
   "outputs": [],
   "source": [
    "hep.histplot(h1 * Ws[0]/ s1.shape[0],\n",
    "                 bins = binss1,\n",
    "                 ax = axs,\n",
    "                 yerr = h1 ** 0.5 * Ws[0]/ s1.shape[0] ,\n",
    "                 color = 'b',\n",
    "                 histtype = 'step',  \n",
    "                 label = labels[0])"
   ]
  }
 ],
 "metadata": {
  "kernelspec": {
   "display_name": "coffea_env",
   "language": "python",
   "name": "coffea_env"
  },
  "language_info": {
   "codemirror_mode": {
    "name": "ipython",
    "version": 3
   },
   "file_extension": ".py",
   "mimetype": "text/x-python",
   "name": "python",
   "nbconvert_exporter": "python",
   "pygments_lexer": "ipython3",
   "version": "3.10.12"
  }
 },
 "nbformat": 4,
 "nbformat_minor": 5
}
