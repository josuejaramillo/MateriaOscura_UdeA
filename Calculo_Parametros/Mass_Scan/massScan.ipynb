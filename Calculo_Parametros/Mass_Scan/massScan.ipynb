{
 "cells": [
  {
   "cell_type": "code",
   "execution_count": 3,
   "metadata": {},
   "outputs": [],
   "source": [
    "import matplotlib.pyplot as plt\n",
    "import numpy as np\n",
    "import pandas as pd\n",
    "import json\n",
    "import pyhf\n",
    "from pyhf.contrib.viz import brazil\n",
    "\n",
    "import glob"
   ]
  },
  {
   "cell_type": "code",
   "execution_count": 21,
   "metadata": {},
   "outputs": [
    {
     "data": {
      "text/plain": [
       "['./pt_miss_histogram_monojet_BMtoy_800GeV.csv',\n",
       " './pt_miss_histogram_monojet_BMtoy_850GeV.csv',\n",
       " './pt_miss_histogram_monojet_BMtoy_900GeV.csv',\n",
       " './pt_miss_histogram_monojet_BMtoy_950GeV.csv',\n",
       " './pt_miss_histogram_monojet_BMtoy_1050GeV.csv',\n",
       " './pt_miss_histogram_monojet_BMtoy_1100GeV.csv',\n",
       " './pt_miss_histogram_monojet_BMtoy_1150GeV.csv',\n",
       " './pt_miss_histogram_monojet_BMtoy_1200GeV.csv']"
      ]
     },
     "execution_count": 21,
     "metadata": {},
     "output_type": "execute_result"
    }
   ],
   "source": [
    "signalList = sorted(glob.glob(\"./pt*.csv\"))[4:] + sorted(glob.glob(\"./pt*.csv\"))[0:4]\n",
    "signalList"
   ]
  },
  {
   "cell_type": "code",
   "execution_count": 22,
   "metadata": {},
   "outputs": [],
   "source": [
    "MJData = pd.read_csv(\"MJData.csv\")\n",
    "MJ_bkg = MJData[\"MJ_bkg\"]\n",
    "MJ_errbkg = MJData[\"MJ_errbkg\"]\n",
    "MJ_data = MJData[\"MJ_data\"]\n",
    "MJ_higgs = MJData[\"MJ_higgs\"]\n",
    "MJ_axial = MJData[\"MJ_axial\"]"
   ]
  },
  {
   "cell_type": "code",
   "execution_count": 27,
   "metadata": {},
   "outputs": [],
   "source": [
    "for signal in signalList:\n",
    "    model1 = pyhf.simplemodels.uncorrelated_background(\n",
    "        signal=list(pd.read_csv(signal)[\"counts\"]), bkg=list(MJ_bkg), bkg_uncertainty=list(MJ_errbkg)\n",
    "    ) #creamos el modelo\n",
    "\n",
    "    observations1 = np.concatenate((MJ_data + pd.read_csv(signal)[\"counts\"], model1.config.auxdata))\n",
    "\n",
    "    poi_values1 = np.linspace(0.01, 5, 50)\n",
    "    obs_limit1, exp_limits1, (scan, results) = pyhf.infer.intervals.upper_limits.upper_limit(\n",
    "        observations1, model1, poi_values1, level=0.05, return_results=True\n",
    "    )\n",
    "    pvalue1 = pyhf.infer.hypotest(\n",
    "        1, observations1, model1, return_expected_set=True, return_tail_probs = True\n",
    "    )[1][0]\n",
    "    \n",
    "    print(\"Signal \" + signal[34:-4])\n",
    "    print(f\"    Upper limit (obs): μ = {obs_limit1:.4f}\")\n",
    "    print(f\"    Upper limit (exp): μ = {exp_limits1[2]:.4f} \\n\")\n",
    "    print(f\"    p-value = {pvalue1:.8f}\")"
   ]
  }
 ],
 "metadata": {
  "kernelspec": {
   "display_name": "Python 3",
   "language": "python",
   "name": "python3"
  },
  "language_info": {
   "codemirror_mode": {
    "name": "ipython",
    "version": 3
   },
   "file_extension": ".py",
   "mimetype": "text/x-python",
   "name": "python",
   "nbconvert_exporter": "python",
   "pygments_lexer": "ipython3",
   "version": "3.10.8"
  },
  "orig_nbformat": 4,
  "vscode": {
   "interpreter": {
    "hash": "916dbcbb3f70747c44a77c7bcd40155683ae19c65e1c03b4aa3499c5328201f1"
   }
  }
 },
 "nbformat": 4,
 "nbformat_minor": 2
}
