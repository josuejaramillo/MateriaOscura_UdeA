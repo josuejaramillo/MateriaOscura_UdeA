{
 "cells": [
  {
   "cell_type": "code",
   "execution_count": 1,
   "metadata": {},
   "outputs": [],
   "source": [
    "import matplotlib.pyplot as plt\n",
    "import numpy as np\n",
    "import pandas as pd\n",
    "import json\n",
    "import pyhf\n",
    "from pyhf.contrib.viz import brazil\n",
    "\n",
    "import glob"
   ]
  },
  {
   "cell_type": "code",
   "execution_count": 12,
   "metadata": {},
   "outputs": [
    {
     "data": {
      "text/plain": [
       "['./pt_miss_histogram_monojet_BM_toy_500_GeV.csv',\n",
       " './pt_miss_histogram_monojet_BM_toy_550_GeV.csv',\n",
       " './pt_miss_histogram_monojet_BM_toy_600_GeV.csv',\n",
       " './pt_miss_histogram_monojet_BM_toy_650_GeV.csv',\n",
       " './pt_miss_histogram_monojet_BM_toy_700_GeV.csv',\n",
       " './pt_miss_histogram_monojet_BM_toy_750_GeV.csv',\n",
       " './pt_miss_histogram_monojet_BMtoy_800GeV.csv',\n",
       " './pt_miss_histogram_monojet_BMtoy_850GeV.csv',\n",
       " './pt_miss_histogram_monojet_BMtoy_900GeV.csv',\n",
       " './pt_miss_histogram_monojet_BMtoy_950GeV.csv',\n",
       " './pt_miss_histogram_monojet_BMtoy_1050GeV.csv',\n",
       " './pt_miss_histogram_monojet_BMtoy_1100GeV.csv',\n",
       " './pt_miss_histogram_monojet_BMtoy_1150GeV.csv',\n",
       " './pt_miss_histogram_monojet_BMtoy_1200GeV.csv']"
      ]
     },
     "execution_count": 12,
     "metadata": {},
     "output_type": "execute_result"
    }
   ],
   "source": [
    "signalList = sorted(glob.glob(\"./pt*.csv\"))[:6] + sorted(glob.glob(\"./pt*.csv\"))[10:14] + sorted(glob.glob(\"./pt*.csv\"))[6:10]\n",
    "signalList"
   ]
  },
  {
   "cell_type": "code",
   "execution_count": 13,
   "metadata": {},
   "outputs": [],
   "source": [
    "MJData = pd.read_csv(\"MJData.csv\")\n",
    "MJ_bkg = MJData[\"MJ_bkg\"]\n",
    "MJ_errbkg = MJData[\"MJ_errbkg\"]\n",
    "MJ_data = MJData[\"MJ_data\"]\n",
    "MJ_higgs = MJData[\"MJ_higgs\"]\n",
    "MJ_axial = MJData[\"MJ_axial\"]"
   ]
  },
  {
   "cell_type": "code",
   "execution_count": 14,
   "metadata": {},
   "outputs": [
    {
     "name": "stdout",
     "output_type": "stream",
     "text": [
      "(array(0.5), [array(0.5), array(1.)], array(8.77505478e-47), [array(7.66604825e-59), array(9.07154491e-53), array(8.77505478e-47), array(5.87606194e-41), array(2.10843736e-35)])\n"
     ]
    }
   ],
   "source": [
    "poi_values1 = np.linspace(0.01, 2, 50)\n",
    "Sig = pd.read_csv('./pt_miss_histogram_monojet_BMtoy_800GeV.csv')[\"counts\"]\n",
    "Data = MJ_data + Sig\n",
    "model1 = pyhf.simplemodels.uncorrelated_background(\n",
    "    signal=list(.2*Sig), bkg=list(MJ_bkg), bkg_uncertainty=list(MJ_errbkg)\n",
    ") #creamos el modelo\n",
    "\n",
    "observations1 = np.concatenate((Data, model1.config.auxdata))\n",
    "\n",
    "obs_limit1, exp_limits1, (scan, results) = pyhf.infer.intervals.upper_limits.upper_limit(\n",
    "observations1, model1, poi_values1, level=0.05, return_results=True\n",
    "    )\n",
    "CL = pyhf.infer.hypotest(\n",
    "    1, observations1, model1,  return_expected = True, return_expected_set = True, return_tail_probs = True\n",
    "    )\n",
    "print(CL)"
   ]
  },
  {
   "cell_type": "code",
   "execution_count": 16,
   "metadata": {},
   "outputs": [
    {
     "name": "stdout",
     "output_type": "stream",
     "text": [
      "(array(0.5), [array(0.5), array(1.)], array(0.), [array(0.), array(0.), array(0.), array(0.), array(0.)])\n",
      "(array(0.5), [array(0.5), array(1.)], array(0.), [array(0.), array(0.), array(0.), array(0.), array(0.)])\n",
      "(array(0.5), [array(0.5), array(1.)], array(0.), [array(0.), array(0.), array(0.), array(0.), array(0.)])\n",
      "(array(0.5), [array(0.5), array(1.)], array(0.), [array(0.), array(0.), array(0.), array(0.), array(0.)])\n",
      "(array(0.5), [array(0.5), array(1.)], array(0.), [array(0.), array(0.), array(0.), array(0.), array(0.)])\n",
      "(array(0.5), [array(0.5), array(1.)], array(0.), [array(0.), array(0.), array(0.), array(0.), array(0.)])\n",
      "(array(0.5), [array(0.5), array(1.)], array(0.), [array(0.), array(0.), array(0.), array(0.), array(0.)])\n",
      "(array(0.5), [array(0.5), array(1.)], array(0.), [array(0.), array(0.), array(0.), array(0.), array(0.)])\n",
      "(array(0.5), [array(0.5), array(1.)], array(0.), [array(0.), array(0.), array(0.), array(0.), array(0.)])\n",
      "(array(0.5), [array(0.5), array(1.)], array(0.), [array(0.), array(0.), array(0.), array(0.), array(0.)])\n",
      "(array(0.5), [array(0.5), array(1.)], array(0.), [array(0.), array(0.), array(0.), array(0.), array(0.)])\n",
      "(array(0.5), [array(0.5), array(1.)], array(0.), [array(0.), array(0.), array(0.), array(0.), array(0.)])\n",
      "(array(0.5), [array(0.5), array(1.)], array(0.), [array(0.), array(0.), array(0.), array(0.), array(0.)])\n",
      "(array(0.5), [array(0.5), array(1.)], array(0.), [array(0.), array(0.), array(0.), array(0.), array(0.)])\n"
     ]
    }
   ],
   "source": [
    "f = open(\"resultados.txt\", \"at\")\n",
    "poi_values1 = np.linspace(0.01, 2, 50)\n",
    "\n",
    "for signal in signalList:\n",
    "    Sig = pd.read_csv(signal)[\"counts\"]\n",
    "    Data = MJ_data + Sig\n",
    "    model1 = pyhf.simplemodels.uncorrelated_background(\n",
    "        signal=list(Sig), bkg=list(MJ_bkg), bkg_uncertainty=list(MJ_errbkg)\n",
    "    ) #creamos el modelo\n",
    "\n",
    "    observations1 = np.concatenate((Data, model1.config.auxdata))\n",
    "\n",
    "    obs_limit1, exp_limits1, (scan, results) = pyhf.infer.intervals.upper_limits.upper_limit(\n",
    "        observations1, model1, poi_values1, level=0.05, return_results=True\n",
    "    )\n",
    "    CL = pyhf.infer.hypotest(\n",
    "        1, observations1, model1,  return_expected = True, return_expected_set = True, return_tail_probs = True\n",
    "    )\n",
    "    print(CL)\n",
    "    \n",
    "    f.write(\"================================================================\\n\")\n",
    "    f.write(\"Signal \" + signal[34:-4] + \"\\n\")\n",
    "    f.write(f\"    Upper limit (obs): μ = {obs_limit1:.4f}\")\n",
    "    f.write(f\"    Upper limit (exp): μ = {exp_limits1[2]:.4f} \\n\")\n",
    "    f.write(f\"    p-value = {CL[1][0]:.8f}\\n\")\n",
    "    f.write(f\"    CLsb = {CL[1][1]:.8f}\\n\")\n",
    "    f.write(f\"    CLb = {CL[0]:.8f}\\n\")\n",
    "    f.write(f\"    CLs = {CL[2]:.8f}\\n\")\n",
    "    f.write(f\"    -2σ = {CL[3][0]:.8f}\\n\")\n",
    "    f.write(f\"    -1σ = {CL[3][1]:.8f}\\n\")\n",
    "    f.write(f\"     0σ = {CL[3][2]:.8f}\\n\")\n",
    "    f.write(f\"     1σ = {CL[3][3]:.8f}\\n\")\n",
    "    f.write(f\"     2σ = {CL[3][4]:.8f}\\n\")\n",
    "    f.write(\"================================================================\\n\")\n",
    "f.close()\n",
    "    "
   ]
  },
  {
   "cell_type": "code",
   "execution_count": null,
   "metadata": {},
   "outputs": [
    {
     "ename": "NameError",
     "evalue": "name 'toySignal' is not defined",
     "output_type": "error",
     "traceback": [
      "\u001b[0;31m---------------------------------------------------------------------------\u001b[0m",
      "\u001b[0;31mNameError\u001b[0m                                 Traceback (most recent call last)",
      "Cell \u001b[0;32mIn[5], line 6\u001b[0m\n\u001b[1;32m      2\u001b[0m pvalPar \u001b[39m=\u001b[39m np\u001b[39m.\u001b[39mlinspace(\u001b[39m1.02\u001b[39m, \u001b[39m1.06\u001b[39m, \u001b[39m100\u001b[39m)\n\u001b[1;32m      4\u001b[0m \u001b[39mfor\u001b[39;00m i \u001b[39min\u001b[39;00m pvalPar:\n\u001b[1;32m      5\u001b[0m     model1 \u001b[39m=\u001b[39m pyhf\u001b[39m.\u001b[39msimplemodels\u001b[39m.\u001b[39muncorrelated_background(\n\u001b[0;32m----> 6\u001b[0m         signal\u001b[39m=\u001b[39m\u001b[39mlist\u001b[39m(i\u001b[39m*\u001b[39mtoySignal), bkg\u001b[39m=\u001b[39m\u001b[39mlist\u001b[39m(MJ_bkg), bkg_uncertainty\u001b[39m=\u001b[39m\u001b[39mlist\u001b[39m(MJ_errbkg)\n\u001b[1;32m      7\u001b[0m     ) \u001b[39m#creamos el modelo\u001b[39;00m\n\u001b[1;32m      9\u001b[0m     observations1 \u001b[39m=\u001b[39m np\u001b[39m.\u001b[39mconcatenate((toyData, model1\u001b[39m.\u001b[39mconfig\u001b[39m.\u001b[39mauxdata))\n\u001b[1;32m     11\u001b[0m     pvalue1 \u001b[39m=\u001b[39m pyhf\u001b[39m.\u001b[39minfer\u001b[39m.\u001b[39mhypotest(\n\u001b[1;32m     12\u001b[0m         \u001b[39m1\u001b[39m, observations1, model1, return_expected_set\u001b[39m=\u001b[39m\u001b[39mTrue\u001b[39;00m, return_tail_probs \u001b[39m=\u001b[39m \u001b[39mTrue\u001b[39;00m\n\u001b[1;32m     13\u001b[0m     )[\u001b[39m1\u001b[39m][\u001b[39m0\u001b[39m]\n",
      "\u001b[0;31mNameError\u001b[0m: name 'toySignal' is not defined"
     ]
    }
   ],
   "source": [
    "#p-value\n",
    "pvalPar = np.linspace(1.02, 1.06, 100)\n",
    "\n",
    "for i in pvalPar:\n",
    "    model1 = pyhf.simplemodels.uncorrelated_background(\n",
    "        signal=list(i*toySignal), bkg=list(MJ_bkg), bkg_uncertainty=list(MJ_errbkg)\n",
    "    ) #creamos el modelo\n",
    "\n",
    "    observations1 = np.concatenate((toyData, model1.config.auxdata))\n",
    "\n",
    "    pvalue1 = pyhf.infer.hypotest(\n",
    "        1, observations1, model1, return_expected_set=True, return_tail_probs = True\n",
    "    )[1][0]\n",
    "    if abs(0.05 - pvalue1) < 1e-3:\n",
    "        print(abs(0.05 - pvalue1), i)\n",
    "        break\n",
    "\n",
    "print(\"p-value = \", pvalue1)"
   ]
  },
  {
   "cell_type": "markdown",
   "metadata": {},
   "source": [
    "as"
   ]
  }
 ],
 "metadata": {
  "kernelspec": {
   "display_name": "Python 3",
   "language": "python",
   "name": "python3"
  },
  "language_info": {
   "codemirror_mode": {
    "name": "ipython",
    "version": 3
   },
   "file_extension": ".py",
   "mimetype": "text/x-python",
   "name": "python",
   "nbconvert_exporter": "python",
   "pygments_lexer": "ipython3",
   "version": "3.10.8"
  },
  "orig_nbformat": 4,
  "vscode": {
   "interpreter": {
    "hash": "916dbcbb3f70747c44a77c7bcd40155683ae19c65e1c03b4aa3499c5328201f1"
   }
  }
 },
 "nbformat": 4,
 "nbformat_minor": 2
}
