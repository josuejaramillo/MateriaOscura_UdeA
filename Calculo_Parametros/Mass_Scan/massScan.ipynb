{
 "cells": [
  {
   "cell_type": "code",
   "execution_count": 3,
   "metadata": {},
   "outputs": [],
   "source": [
    "import matplotlib.pyplot as plt\n",
    "import numpy as np\n",
    "import pandas as pd\n",
    "import json\n",
    "import pyhf\n",
    "from pyhf.contrib.viz import brazil\n",
    "\n",
    "import glob"
   ]
  },
  {
   "cell_type": "code",
   "execution_count": 21,
   "metadata": {},
   "outputs": [
    {
     "data": {
      "text/plain": [
       "['./pt_miss_histogram_monojet_BMtoy_800GeV.csv',\n",
       " './pt_miss_histogram_monojet_BMtoy_850GeV.csv',\n",
       " './pt_miss_histogram_monojet_BMtoy_900GeV.csv',\n",
       " './pt_miss_histogram_monojet_BMtoy_950GeV.csv',\n",
       " './pt_miss_histogram_monojet_BMtoy_1050GeV.csv',\n",
       " './pt_miss_histogram_monojet_BMtoy_1100GeV.csv',\n",
       " './pt_miss_histogram_monojet_BMtoy_1150GeV.csv',\n",
       " './pt_miss_histogram_monojet_BMtoy_1200GeV.csv']"
      ]
     },
     "execution_count": 21,
     "metadata": {},
     "output_type": "execute_result"
    }
   ],
   "source": [
    "signalList = sorted(glob.glob(\"./pt*.csv\"))[4:] + sorted(glob.glob(\"./pt*.csv\"))[0:4]\n",
    "signalList"
   ]
  },
  {
   "cell_type": "code",
   "execution_count": 22,
   "metadata": {},
   "outputs": [],
   "source": [
    "MJData = pd.read_csv(\"MJData.csv\")\n",
    "MJ_bkg = MJData[\"MJ_bkg\"]\n",
    "MJ_errbkg = MJData[\"MJ_errbkg\"]\n",
    "MJ_data = MJData[\"MJ_data\"]\n",
    "MJ_higgs = MJData[\"MJ_higgs\"]\n",
    "MJ_axial = MJData[\"MJ_axial\"]"
   ]
  },
  {
   "cell_type": "code",
   "execution_count": 28,
   "metadata": {},
   "outputs": [
    {
     "name": "stderr",
     "output_type": "stream",
     "text": [
      "/home/codespace/.local/lib/python3.10/site-packages/scipy/optimize/_optimize.py:404: RuntimeWarning: Values in x were outside bounds during a minimize step, clipping to bounds\n",
      "  warnings.warn(\"Values in x were outside bounds during a \"\n"
     ]
    },
    {
     "name": "stdout",
     "output_type": "stream",
     "text": [
      "Signal 800GeV\n",
      "    Upper limit (obs): μ = 1.0864\n",
      "    Upper limit (exp): μ = 0.1011\n",
      "    p-value = 0.50000000 \n",
      "\n"
     ]
    },
    {
     "name": "stderr",
     "output_type": "stream",
     "text": [
      "/home/codespace/.local/lib/python3.10/site-packages/scipy/optimize/_optimize.py:404: RuntimeWarning: Values in x were outside bounds during a minimize step, clipping to bounds\n",
      "  warnings.warn(\"Values in x were outside bounds during a \"\n"
     ]
    },
    {
     "name": "stdout",
     "output_type": "stream",
     "text": [
      "Signal 850GeV\n",
      "    Upper limit (obs): μ = 1.0993\n",
      "    Upper limit (exp): μ = 0.1020\n",
      "    p-value = 0.50000000 \n",
      "\n",
      "Signal 900GeV\n",
      "    Upper limit (obs): μ = 1.1031\n",
      "    Upper limit (exp): μ = 0.1024\n",
      "    p-value = 0.50000000 \n",
      "\n",
      "Signal 950GeV\n",
      "    Upper limit (obs): μ = 1.1036\n",
      "    Upper limit (exp): μ = 0.1025\n",
      "    p-value = 0.50000000 \n",
      "\n",
      "Signal 1050GeV\n",
      "    Upper limit (obs): μ = 1.1079\n",
      "    Upper limit (exp): μ = 0.1030\n",
      "    p-value = 0.50000000 \n",
      "\n",
      "Signal 1100GeV\n",
      "    Upper limit (obs): μ = 1.1102\n",
      "    Upper limit (exp): μ = 0.1034\n",
      "    p-value = 0.50000000 \n",
      "\n",
      "Signal 1150GeV\n",
      "    Upper limit (obs): μ = 1.1078\n",
      "    Upper limit (exp): μ = 0.1032\n",
      "    p-value = 0.50000000 \n",
      "\n",
      "Signal 1200GeV\n",
      "    Upper limit (obs): μ = 1.1054\n",
      "    Upper limit (exp): μ = 0.1029\n",
      "    p-value = 0.50000000 \n",
      "\n"
     ]
    }
   ],
   "source": [
    "for signal in signalList:\n",
    "    model1 = pyhf.simplemodels.uncorrelated_background(\n",
    "        signal=list(pd.read_csv(signal)[\"counts\"]), bkg=list(MJ_bkg), bkg_uncertainty=list(MJ_errbkg)\n",
    "    ) #creamos el modelo\n",
    "\n",
    "    observations1 = np.concatenate((MJ_data + pd.read_csv(signal)[\"counts\"], model1.config.auxdata))\n",
    "\n",
    "    poi_values1 = np.linspace(0.01, 5, 50)\n",
    "    obs_limit1, exp_limits1, (scan, results) = pyhf.infer.intervals.upper_limits.upper_limit(\n",
    "        observations1, model1, poi_values1, level=0.05, return_results=True\n",
    "    )\n",
    "    pvalue1 = pyhf.infer.hypotest(\n",
    "        1, observations1, model1, return_expected_set=True, return_tail_probs = True\n",
    "    )[1][0]\n",
    "    \n",
    "    print(\"Signal \" + signal[34:-4])\n",
    "    print(f\"    Upper limit (obs): μ = {obs_limit1:.4f}\")\n",
    "    print(f\"    Upper limit (exp): μ = {exp_limits1[2]:.4f}\")\n",
    "    print(f\"    p-value = {pvalue1:.8f} \\n\")\n",
    "    \n",
    "    "
   ]
  },
  {
   "cell_type": "code",
   "execution_count": null,
   "metadata": {},
   "outputs": [
    {
     "name": "stdout",
     "output_type": "stream",
     "text": [
      "0.0006291270379414071 1.0426262626262626\n",
      "p-value =  0.049370872962058596\n"
     ]
    }
   ],
   "source": [
    "#p-value\n",
    "pvalPar = np.linspace(1.02, 1.06, 100)\n",
    "\n",
    "for i in pvalPar:\n",
    "    model1 = pyhf.simplemodels.uncorrelated_background(\n",
    "        signal=list(i*toySignal), bkg=list(MJ_bkg), bkg_uncertainty=list(MJ_errbkg)\n",
    "    ) #creamos el modelo\n",
    "\n",
    "    observations1 = np.concatenate((toyData, model1.config.auxdata))\n",
    "\n",
    "    pvalue1 = pyhf.infer.hypotest(\n",
    "        1, observations1, model1, return_expected_set=True, return_tail_probs = True\n",
    "    )[1][0]\n",
    "    if abs(0.05 - pvalue1) < 1e-3:\n",
    "        print(abs(0.05 - pvalue1), i)\n",
    "        break\n",
    "\n",
    "print(\"p-value = \", pvalue1)"
   ]
  },
  {
   "cell_type": "markdown",
   "metadata": {},
   "source": [
    "as"
   ]
  }
 ],
 "metadata": {
  "kernelspec": {
   "display_name": "Python 3",
   "language": "python",
   "name": "python3"
  },
  "language_info": {
   "codemirror_mode": {
    "name": "ipython",
    "version": 3
   },
   "file_extension": ".py",
   "mimetype": "text/x-python",
   "name": "python",
   "nbconvert_exporter": "python",
   "pygments_lexer": "ipython3",
   "version": "3.10.8"
  },
  "orig_nbformat": 4,
  "vscode": {
   "interpreter": {
    "hash": "916dbcbb3f70747c44a77c7bcd40155683ae19c65e1c03b4aa3499c5328201f1"
   }
  }
 },
 "nbformat": 4,
 "nbformat_minor": 2
}
