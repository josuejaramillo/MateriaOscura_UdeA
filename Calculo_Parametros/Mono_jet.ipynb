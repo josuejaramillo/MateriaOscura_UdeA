{
  "cells": [
    {
      "cell_type": "code",
      "execution_count": 2,
      "metadata": {
        "id": "68kLOYKY1fQP"
      },
      "outputs": [],
      "source": [
        "import matplotlib.pyplot as plt\n",
        "import numpy as np\n",
        "import pandas as pd\n",
        "import json\n",
        "import pyhf\n",
        "from pyhf.contrib.viz import brazil"
      ]
    },
    {
      "cell_type": "code",
      "execution_count": 4,
      "metadata": {
        "id": "HTEPsaoG1fQS"
      },
      "outputs": [],
      "source": [
        "MJData = pd.read_csv(\"MJData.csv\")\n",
        "MJ_bkg = MJData[\"MJ_bkg\"]\n",
        "MJ_errbkg = MJData[\"MJ_errbkg\"]\n",
        "MJ_data = MJData[\"MJ_data\"]\n",
        "MJ_higgs = MJData[\"MJ_higgs\"]\n",
        "MJ_axial = MJData[\"MJ_axial\"]\n",
        "\n",
        "toySignal = pd.read_csv(\"pt_miss_histogram_monojet_BMtoy.csv\")[\"counts\"]"
      ]
    },
    {
      "cell_type": "code",
      "execution_count": 5,
      "metadata": {
        "id": "UUcbku7D1fQU"
      },
      "outputs": [],
      "source": [
        "toyData = MJ_data + toySignal"
      ]
    },
    {
      "cell_type": "code",
      "execution_count": 10,
      "metadata": {
        "colab": {
          "base_uri": "https://localhost:8080/"
        },
        "id": "X40B6AEU1fQV",
        "outputId": "07c25364-68b7-4b7b-c279-7fe984800595"
      },
      "outputs": [
        {
          "name": "stdout",
          "output_type": "stream",
          "text": [
            "0.0005960837098542004 1.1116326530612246\n",
            "Upper limit (obs): μ = 1.0006\n",
            "Upper limit (exp): μ = 0.1020\n"
          ]
        }
      ],
      "source": [
        "signalPar = np.linspace(1.11, 1.13, 50)\n",
        "\n",
        "for i in signalPar:\n",
        "    model1 = pyhf.simplemodels.uncorrelated_background(\n",
        "        signal=list(i*toySignal), bkg=list(MJ_bkg), bkg_uncertainty=list(MJ_errbkg)\n",
        "    ) #creamos el modelo\n",
        "\n",
        "    observations1 = np.concatenate((toyData, model1.config.auxdata))\n",
        "\n",
        "    poi_values1 = np.linspace(0.01, 5, 50)\n",
        "    obs_limit1, exp_limits1, (scan, results) = pyhf.infer.intervals.upper_limits.upper_limit(\n",
        "        observations1, model1, poi_values1, level=0.05, return_results=True\n",
        "    )\n",
        "    if abs(1 - obs_limit1) < 1e-3:\n",
        "        print(abs(1 - obs_limit1), i)\n",
        "        break\n",
        "\n",
        "print(f\"Upper limit (obs): μ = {obs_limit1:.4f}\")\n",
        "print(f\"Upper limit (exp): μ = {exp_limits1[2]:.4f}\")"
      ]
    },
    {
      "cell_type": "code",
      "execution_count": 12,
      "metadata": {
        "colab": {
          "base_uri": "https://localhost:8080/"
        },
        "id": "zFbDxV321fQX",
        "outputId": "0d5306e6-9deb-4564-9c2b-c087414d761a"
      },
      "outputs": [
        {
          "name": "stdout",
          "output_type": "stream",
          "text": [
            "0.0006291270379414071 1.0426262626262626\n",
            "p-value =  0.049370872962058596\n"
          ]
        }
      ],
      "source": [
        "#p-value\n",
        "pvalPar = np.linspace(1.02, 1.06, 100)\n",
        "\n",
        "for i in pvalPar:\n",
        "    model1 = pyhf.simplemodels.uncorrelated_background(\n",
        "        signal=list(i*toySignal), bkg=list(MJ_bkg), bkg_uncertainty=list(MJ_errbkg)\n",
        "    ) #creamos el modelo\n",
        "\n",
        "    observations1 = np.concatenate((toyData, model1.config.auxdata))\n",
        "\n",
        "    pvalue1 = pyhf.infer.hypotest(\n",
        "        1, observations1, model1, return_expected_set=True, return_tail_probs = True\n",
        "    )[1][0]\n",
        "    if abs(0.05 - pvalue1) < 1e-3:\n",
        "        print(abs(0.05 - pvalue1), i)\n",
        "        break\n",
        "\n",
        "print(\"p-value = \", pvalue1)"
      ]
    }
  ],
  "metadata": {
    "accelerator": "GPU",
    "colab": {
      "gpuType": "T4",
      "provenance": []
    },
    "kernelspec": {
      "display_name": "Python 3",
      "name": "python3"
    },
    "language_info": {
      "codemirror_mode": {
        "name": "ipython",
        "version": 3
      },
      "file_extension": ".py",
      "mimetype": "text/x-python",
      "name": "python",
      "nbconvert_exporter": "python",
      "pygments_lexer": "ipython3",
      "version": "3.10.8"
    },
    "orig_nbformat": 4,
    "vscode": {
      "interpreter": {
        "hash": "916dbcbb3f70747c44a77c7bcd40155683ae19c65e1c03b4aa3499c5328201f1"
      }
    }
  },
  "nbformat": 4,
  "nbformat_minor": 0
}
