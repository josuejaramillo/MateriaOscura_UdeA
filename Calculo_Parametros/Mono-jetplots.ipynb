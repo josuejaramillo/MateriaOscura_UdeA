{
 "cells": [
  {
   "cell_type": "code",
   "execution_count": 1,
   "metadata": {},
   "outputs": [],
   "source": [
    "import matplotlib.pyplot as plt\n",
    "import numpy as np\n",
    "import pandas as pd"
   ]
  },
  {
   "cell_type": "code",
   "execution_count": 2,
   "metadata": {},
   "outputs": [],
   "source": [
    "import json\n",
    "import pyhf\n",
    "from pyhf.contrib.viz import brazil"
   ]
  },
  {
   "cell_type": "code",
   "execution_count": 3,
   "metadata": {},
   "outputs": [],
   "source": [
    "data=pd.read_csv('Data.dat',sep=' ')\n",
    "background=pd.read_csv('Background.dat',sep=' ')\n",
    "signal1=pd.read_csv('Signal1Higgs.dat',sep=' ')\n",
    "signal2=pd.read_csv('Signal2Axial.dat',sep=' ')\n",
    "signaltoy=pd.read_csv('pt_miss_histogram_monojet_BMtoy.csv',sep=',')"
   ]
  },
  {
   "cell_type": "code",
   "execution_count": 4,
   "metadata": {},
   "outputs": [],
   "source": [
    "\n",
    "signal1=signal1['y'].to_numpy()\n",
    "signal2=signal2['y'].to_numpy()\n",
    "signalt=signaltoy['counts'].to_numpy()"
   ]
  },
  {
   "cell_type": "code",
   "execution_count": 5,
   "metadata": {},
   "outputs": [
    {
     "data": {
      "text/plain": [
       "\"s1=np.zeros_like(signal1)\\ns2=np.zeros_like(signal2)\\nfor i in range(len(background)):\\n    s1[i]=float(signal1[i].replace(',','.'))\\n    s2[i]=float(signal2[i].replace(',','.'))\""
      ]
     },
     "execution_count": 5,
     "metadata": {},
     "output_type": "execute_result"
    }
   ],
   "source": [
    "\n",
    "\"\"\"s1=np.zeros_like(signal1)\n",
    "s2=np.zeros_like(signal2)\n",
    "for i in range(len(background)):\n",
    "    s1[i]=float(signal1[i].replace(',','.'))\n",
    "    s2[i]=float(signal2[i].replace(',','.'))\"\"\"\n"
   ]
  },
  {
   "cell_type": "code",
   "execution_count": 6,
   "metadata": {},
   "outputs": [],
   "source": [
    "#factor=np.array([30,30,30,30,30,40,40,40,40,40,40,50,50,50,50,50,60,60,60,70,70,90])"
   ]
  },
  {
   "cell_type": "code",
   "execution_count": 7,
   "metadata": {},
   "outputs": [
    {
     "data": {
      "text/plain": [
       "'s1=s1*factor\\ns2=s2*factor'"
      ]
     },
     "execution_count": 7,
     "metadata": {},
     "output_type": "execute_result"
    }
   ],
   "source": [
    "\"\"\"s1=s1*factor\n",
    "s2=s2*factor\"\"\""
   ]
  },
  {
   "cell_type": "code",
   "execution_count": 8,
   "metadata": {},
   "outputs": [],
   "source": [
    "factor=np.linspace(0.01,2,100)"
   ]
  },
  {
   "cell_type": "code",
   "execution_count": 9,
   "metadata": {},
   "outputs": [],
   "source": [
    "bkg1=np.array([132100,69900,36800,20780,12340,9160,5100,3000,1763,1032,683,554,322,178,122,74.5,77.8,38.4,25.1,21.1,9.4,22.6])\n",
    "observed=np.array([140642,73114,38321,21417,12525,9515,5174,2947,1777,1021,694,554,339,196,123,80,68,37,23,12,7,26])\n",
    "errbkg1=np.array([4000,2200,1100,630,400,320,200,120,79,48,37,28,19,13,8,6.6,7.2,4.8,3.4,3.0,1.9,3.0])\n",
    "\n"
   ]
  },
  {
   "cell_type": "code",
   "execution_count": 10,
   "metadata": {},
   "outputs": [],
   "source": [
    "signals=[]\n",
    "for i in range(len(factor)):\n",
    "    signal=factor[i]*signalt\n",
    "    signals.append(signal)"
   ]
  },
  {
   "cell_type": "code",
   "execution_count": 11,
   "metadata": {},
   "outputs": [],
   "source": [
    "from tqdm import tqdm"
   ]
  },
  {
   "cell_type": "code",
   "execution_count": 12,
   "metadata": {},
   "outputs": [
    {
     "name": "stderr",
     "output_type": "stream",
     "text": [
      " 76%|███████▌  | 76/100 [3:07:38<38:58, 97.42s/it]    /home/jessica/.local/lib/python3.10/site-packages/scipy/optimize/_optimize.py:353: RuntimeWarning: Values in x were outside bounds during a minimize step, clipping to bounds\n",
      "  warnings.warn(\"Values in x were outside bounds during a \"\n",
      " 84%|████████▍ | 84/100 [3:20:48<26:14, 98.38s/it]/home/jessica/.local/lib/python3.10/site-packages/pyhf/infer/calculators.py:467: RuntimeWarning: invalid value encountered in divide\n",
      "  CLs = tensorlib.astensor(CLsb / CLb)\n",
      "100%|██████████| 100/100 [3:47:02<00:00, 136.22s/it]\n"
     ]
    }
   ],
   "source": [
    "mus=np.ones_like(factor)\n",
    "for i in tqdm(range(len(signals))):\n",
    "    data=observed+signals[i]\n",
    "    model1 = pyhf.simplemodels.uncorrelated_background(\n",
    "    signal=signals[i].tolist(), bkg=bkg1.tolist(), bkg_uncertainty=errbkg1.tolist())\n",
    "    observations1 = data.tolist() + model1.config.auxdata\n",
    "    poi_values1 = np.linspace(0.1, 5, 50)\n",
    "    obs_limit1, exp_limits1, (scan, results) = pyhf.infer.intervals.upper_limits.upper_limit(\n",
    "    observations1, model1, poi_values1, level=0.05, return_results=True)\n",
    "    mus[i]=obs_limit1\n",
    "    \n",
    "    "
   ]
  },
  {
   "cell_type": "code",
   "execution_count": 24,
   "metadata": {},
   "outputs": [
    {
     "data": {
      "text/plain": [
       "<matplotlib.collections.LineCollection at 0x7fe86969c940>"
      ]
     },
     "execution_count": 24,
     "metadata": {},
     "output_type": "execute_result"
    },
    {
     "data": {
      "image/png": "[encoded data removed]",
      "text/plain": [
       "<Figure size 640x480 with 1 Axes>"
      ]
     },
     "metadata": {},
     "output_type": "display_data"
    }
   ],
   "source": [
    "plt.plot(factor,mus)\n",
    "plt.hlines(1,min(factor),max(factor))"
   ]
  },
  {
   "cell_type": "code",
   "execution_count": 13,
   "metadata": {},
   "outputs": [
    {
     "data": {
      "text/plain": [
       "<pyhf.pdf.Model at 0x7fe869087490>"
      ]
     },
     "execution_count": 13,
     "metadata": {},
     "output_type": "execute_result"
    }
   ],
   "source": [
    "model1 = pyhf.simplemodels.uncorrelated_background(\n",
    "    signal=signalt.tolist(), bkg=bkg1.tolist(), bkg_uncertainty=errbkg1.tolist()\n",
    ") #creamos el modelo\n",
    "model1 #Modelo"
   ]
  },
  {
   "cell_type": "code",
   "execution_count": 14,
   "metadata": {},
   "outputs": [
    {
     "data": {
      "text/plain": [
       "'model2 = pyhf.simplemodels.uncorrelated_background(\\n    signal=s2.tolist(), bkg=bkg1.tolist(), bkg_uncertainty=errbkg1.tolist()\\n) #creamos el modelo\\nmodel2 #Modelo'"
      ]
     },
     "execution_count": 14,
     "metadata": {},
     "output_type": "execute_result"
    }
   ],
   "source": [
    "\"\"\"model2 = pyhf.simplemodels.uncorrelated_background(\n",
    "    signal=s2.tolist(), bkg=bkg1.tolist(), bkg_uncertainty=errbkg1.tolist()\n",
    ") #creamos el modelo\n",
    "model2 #Modelo\"\"\""
   ]
  },
  {
   "cell_type": "code",
   "execution_count": 15,
   "metadata": {},
   "outputs": [],
   "source": [
    "observations1 = data.tolist() + model1.config.auxdata  # this is a common pattern!\n",
    "#observations1 = observed.tolist() + model1.config.auxdata  # this is a common pattern!\n",
    "\n"
   ]
  },
  {
   "cell_type": "code",
   "execution_count": 16,
   "metadata": {},
   "outputs": [
    {
     "name": "stdout",
     "output_type": "stream",
     "text": [
      "Upper limit (obs): μ = 2.0900\n",
      "Upper limit (exp): μ = 0.1000\n"
     ]
    }
   ],
   "source": [
    "poi_values1 = np.linspace(0.1, 5, 50)\n",
    "obs_limit1, exp_limits1, (scan, results) = pyhf.infer.intervals.upper_limits.upper_limit(\n",
    "    observations1, model1, poi_values1, level=0.05, return_results=True\n",
    ")\n",
    "print(f\"Upper limit (obs): μ = {obs_limit1:.4f}\")\n",
    "print(f\"Upper limit (exp): μ = {exp_limits1[2]:.4f}\")"
   ]
  },
  {
   "cell_type": "code",
   "execution_count": 17,
   "metadata": {},
   "outputs": [],
   "source": [
    "#1.3 mu=1.09 p=0.5\n",
    "#0.9 mu=1.09 p=0.5\n",
    "#0.8 mu=1.09 p=0.5\n",
    "#0.2 mu=1.1829 p=0.5(si se le pone mu=1),p=0.0250(si se le pone mu=a lo que da)"
   ]
  },
  {
   "cell_type": "code",
   "execution_count": 18,
   "metadata": {},
   "outputs": [
    {
     "data": {
      "text/plain": [
       "'poi_values2 = np.linspace(0.1, 5, 50)\\nobs_limit2, exp_limits2, (scan, results) = pyhf.infer.intervals.upper_limits.upper_limit(\\n    observations2, model2, poi_values2, level=0.05, return_results=True\\n)\\nprint(f\"Upper limit (obs): μ = {obs_limit2:.4f}\")\\nprint(f\"Upper limit (exp): μ = {exp_limits2[2]:.4f}\")'"
      ]
     },
     "execution_count": 18,
     "metadata": {},
     "output_type": "execute_result"
    }
   ],
   "source": [
    "\"\"\"poi_values2 = np.linspace(0.1, 5, 50)\n",
    "obs_limit2, exp_limits2, (scan, results) = pyhf.infer.intervals.upper_limits.upper_limit(\n",
    "    observations2, model2, poi_values2, level=0.05, return_results=True\n",
    ")\n",
    "print(f\"Upper limit (obs): μ = {obs_limit2:.4f}\")\n",
    "print(f\"Upper limit (exp): μ = {exp_limits2[2]:.4f}\")\"\"\""
   ]
  },
  {
   "cell_type": "code",
   "execution_count": 19,
   "metadata": {},
   "outputs": [
    {
     "data": {
      "text/plain": [
       "'muobs1=obs_limit1\\nmuobs2=obs_limit2\\nmuexp1=exp_limits1[2]\\nmuexp2=exp_limits2[2]'"
      ]
     },
     "execution_count": 19,
     "metadata": {},
     "output_type": "execute_result"
    }
   ],
   "source": [
    "\"\"\"muobs1=obs_limit1\n",
    "muobs2=obs_limit2\n",
    "muexp1=exp_limits1[2]\n",
    "muexp2=exp_limits2[2]\"\"\""
   ]
  },
  {
   "cell_type": "code",
   "execution_count": 20,
   "metadata": {},
   "outputs": [
    {
     "name": "stdout",
     "output_type": "stream",
     "text": [
      "  CLs (obs): Cls = 0.5000\n",
      "  CLs (exp): CLs (0σ) = 0.0000\n"
     ]
    }
   ],
   "source": [
    "CLs_obs1, tails1 ,CLs_exp_band1 = pyhf.infer.hypotest(\n",
    "    1.1829, observations1, model1, return_expected_set=True, return_tail_probs = True\n",
    ")\n",
    "#SEÑAL 1:HIGGS\n",
    "print(f\"  CLs (obs): Cls = {CLs_obs1:.4f}\")\n",
    "print(f\"  CLs (exp): CLs (0σ) = {CLs_exp_band1[2]:.4f}\")"
   ]
  },
  {
   "cell_type": "code",
   "execution_count": 21,
   "metadata": {},
   "outputs": [
    {
     "data": {
      "text/plain": [
       "'CLs_obs2, tails2 ,CLs_exp_band2 = pyhf.infer.hypotest(\\n    muexp2, observations2, model2, return_expected_set=True, return_tail_probs = True\\n)\\n#SEÑAL 1:AXIL\\nprint(f\"  CLs (obs): Cls = {CLs_obs2:.4f}\")\\nprint(f\"  CLs (exp): CLs (0σ) = {CLs_exp_band2[2]:.4f}\")'"
      ]
     },
     "execution_count": 21,
     "metadata": {},
     "output_type": "execute_result"
    }
   ],
   "source": [
    "\"\"\"CLs_obs2, tails2 ,CLs_exp_band2 = pyhf.infer.hypotest(\n",
    "    muexp2, observations2, model2, return_expected_set=True, return_tail_probs = True\n",
    ")\n",
    "#SEÑAL 1:AXIL\n",
    "print(f\"  CLs (obs): Cls = {CLs_obs2:.4f}\")\n",
    "print(f\"  CLs (exp): CLs (0σ) = {CLs_exp_band2[2]:.4f}\")\"\"\""
   ]
  }
 ],
 "metadata": {
  "kernelspec": {
   "display_name": "Python 3",
   "language": "python",
   "name": "python3"
  },
  "language_info": {
   "codemirror_mode": {
    "name": "ipython",
    "version": 3
   },
   "file_extension": ".py",
   "mimetype": "text/x-python",
   "name": "python",
   "nbconvert_exporter": "python",
   "pygments_lexer": "ipython3",
   "version": "3.10.6"
  },
  "orig_nbformat": 4,
  "vscode": {
   "interpreter": {
    "hash": "916dbcbb3f70747c44a77c7bcd40155683ae19c65e1c03b4aa3499c5328201f1"
   }
  }
 },
 "nbformat": 4,
 "nbformat_minor": 2
}
