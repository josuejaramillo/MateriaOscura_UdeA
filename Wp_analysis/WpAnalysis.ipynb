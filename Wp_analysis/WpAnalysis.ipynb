{
 "cells": [
  {
   "cell_type": "code",
   "execution_count": 2,
   "metadata": {},
   "outputs": [],
   "source": [
    "import pyhf\n",
    "import numpy as np\n",
    "import pandas as pd\n",
    "import matplotlib.pyplot as plt\n",
    "from pyhf.contrib.viz import brazil\n",
    "import json"
   ]
  },
  {
   "cell_type": "code",
   "execution_count": 3,
   "metadata": {},
   "outputs": [],
   "source": [
    "def statisticalAnalysis(Data, signal, bkg, bkgerr):\n",
    "    #Creamos el modelo\n",
    "    model = pyhf.simplemodels.uncorrelated_background(signal = list(signal), bkg = list(bkg), bkg_uncertainty = list(bkgerr))\n",
    "\n",
    "    #Calculamos el mu observado y esperado\n",
    "    observations = np.concatenate((Data, model.config.auxdata))\n",
    "    poi_values = np.linspace(0.01, 2, 100)\n",
    "    obs_limit, exp_limits, (scan, results) = pyhf.infer.intervals.upper_limits.upper_limit(\n",
    "        observations, model, poi_values, level=0.05, return_results=True\n",
    "    )\n",
    "    print(f\"Upper limit (obs): μ = {obs_limit:.4f}\")\n",
    "    print(f\"Upper limit (exp): μ = {exp_limits[2]:.4f}\")\n",
    "\n",
    "    #p-value\n",
    "    pvalue = pyhf.infer.hypotest(\n",
    "        1, observations, model, return_expected_set=True, return_tail_probs = True\n",
    "    )[1][0]\n",
    "    \n",
    "    return [obs_limit, exp_limits[2], pvalue]\n",
    "    "
   ]
  },
  {
   "cell_type": "markdown",
   "metadata": {},
   "source": [
    "## $\\mu$ channel analysis"
   ]
  },
  {
   "cell_type": "code",
   "execution_count": 4,
   "metadata": {},
   "outputs": [],
   "source": [
    "#Data mu channel\n",
    "df_mu_1 = pd.read_csv(\"./data/M_T_mu.csv\", skiprows=83, nrows=70)\n",
    "df_mu_2 = pd.read_csv(\"./data/M_T_mu.csv\", skiprows=157, nrows=70)\n",
    "df_mu_3 = pd.read_csv(\"./data/M_T_mu.csv\", skiprows=231, nrows=70)\n",
    "df_mu_4 = pd.read_csv(\"./data/M_T_mu.csv\", skiprows=9, nrows=70)\n",
    "\n",
    "MT_mu = df_mu_1[\"Transverse mass, $M_T$ [GeV]\"]\n",
    "\n",
    "bkg_mu = df_mu_1[\"SM\"]\n",
    "bkg_err_mu = df_mu_1[\"stat+syst uncertainty +\"]\n",
    "\n",
    "signal_mu_Wp_3_8 = df_mu_2[\"WPRIME 3.8 TeV\"]\n",
    "signal_mu_Wp_5_6 = df_mu_3[\"WPRIME 5.6 TeV\"]\n",
    "\n",
    "Data_mu = df_mu_4[\"Data\"]"
   ]
  },
  {
   "cell_type": "code",
   "execution_count": 8,
   "metadata": {},
   "outputs": [
    {
     "name": "stdout",
     "output_type": "stream",
     "text": [
      "Upper limit (obs): μ = 0.0359\n",
      "Upper limit (exp): μ = 0.0401\n",
      "Upper limit (obs): μ = 0.4893\n",
      "Upper limit (exp): μ = 0.5467\n"
     ]
    }
   ],
   "source": [
    "resultsS_3_8 = statisticalAnalysis(Data_mu, signal_mu_Wp_3_8, bkg_mu, bkg_err_mu)\n",
    "resultsS_5_6 = statisticalAnalysis(Data_mu, signal_mu_Wp_5_6, bkg_mu, bkg_err_mu)"
   ]
  },
  {
   "cell_type": "code",
   "execution_count": 9,
   "metadata": {},
   "outputs": [
    {
     "name": "stdout",
     "output_type": "stream",
     "text": [
      "\n",
      "        \n",
      "    W' 3.8 TeV     \n",
      "        μ (obs) = 0.035882322125112526\n",
      "        μ (exp) = 0.04009771896207878\n",
      "        p-value = 2.5000128391268282e-54\n",
      "    \n",
      "    W' 5.6 TeV \n",
      "        μ (obs) = 0.4892984297090462\n",
      "        μ (exp) = 0.5466727982835657\n",
      "        p-value = 0.0016634598062043853\n",
      "        \n",
      "      \n"
     ]
    }
   ],
   "source": [
    "print(f\"\"\"\n",
    "        \n",
    "    W' 3.8 TeV     \n",
    "        μ (obs) = {resultsS_3_8[0]}\n",
    "        μ (exp) = {resultsS_3_8[1]}\n",
    "        p-value = {resultsS_3_8[2]}\n",
    "    \n",
    "    W' 5.6 TeV \n",
    "        μ (obs) = {resultsS_5_6[0]}\n",
    "        μ (exp) = {resultsS_5_6[1]}\n",
    "        p-value = {resultsS_5_6[2]}\n",
    "        \n",
    "      \"\"\")"
   ]
  },
  {
   "cell_type": "markdown",
   "metadata": {},
   "source": [
    "## $e$ channel analysis"
   ]
  },
  {
   "cell_type": "code",
   "execution_count": 5,
   "metadata": {},
   "outputs": [],
   "source": [
    "#Data e Channel\n",
    "df_e_1 = pd.read_csv(\"./data/M_T_e.csv\", skiprows=177, nrows=164)\n",
    "df_e_2 = pd.read_csv(\"./data/M_T_e.csv\", skiprows=345, nrows=164)\n",
    "df_e_3 = pd.read_csv(\"./data/M_T_e.csv\", skiprows=513, nrows=164)\n",
    "df_e_4 = pd.read_csv(\"./data/M_T_e.csv\", skiprows=9, nrows=164) \n",
    "\n",
    "MT_e = df_e_1[\"Transverse mass, $M_T$ [GeV]\"]\n",
    "\n",
    "bkg_e = df_e_1[\"SM\"]\n",
    "bkg_err_e = df_e_1[\"stat+syst uncertainty +\"]\n",
    "\n",
    "signal_e_Wp_3_8 = df_e_2[\"WPRIME 3.8 TeV\"]\n",
    "signal_e_Wp_5_6 = df_e_3[\"WPRIME 5.6 TeV\"]\n",
    "\n",
    "Data_e = df_e_4[\"Data\"]\n"
   ]
  },
  {
   "cell_type": "code",
   "execution_count": 11,
   "metadata": {},
   "outputs": [
    {
     "name": "stdout",
     "output_type": "stream",
     "text": [
      "Upper limit (obs): μ = 0.0359\n",
      "Upper limit (exp): μ = 0.0317\n",
      "Upper limit (obs): μ = 0.7170\n",
      "Upper limit (exp): μ = 0.7300\n"
     ]
    }
   ],
   "source": [
    "resultsS_3_8_e = statisticalAnalysis(Data_e, signal_e_Wp_3_8, bkg_e, bkg_err_e)\n",
    "resultsS_5_6_e = statisticalAnalysis(Data_e, signal_e_Wp_5_6, bkg_e, bkg_err_e)"
   ]
  },
  {
   "cell_type": "code",
   "execution_count": 12,
   "metadata": {},
   "outputs": [
    {
     "name": "stdout",
     "output_type": "stream",
     "text": [
      "\n",
      "        \n",
      "    W' 3.8 TeV     \n",
      "        μ (obs) = 0.035865517891513765\n",
      "        μ (exp) = 0.03171435691285701\n",
      "        p-value = 4.831502291678635e-58\n",
      "    \n",
      "    W' 5.6 TeV \n",
      "        μ (obs) = 0.7170321455349692\n",
      "        μ (exp) = 0.7299623355177315\n",
      "        p-value = 0.009455672659962902\n",
      "        \n",
      "      \n"
     ]
    }
   ],
   "source": [
    "print(f\"\"\"\n",
    "        \n",
    "    W' 3.8 TeV     \n",
    "        μ (obs) = {resultsS_3_8_e[0]}\n",
    "        μ (exp) = {resultsS_3_8_e[1]}\n",
    "        p-value = {resultsS_3_8_e[2]}\n",
    "    \n",
    "    W' 5.6 TeV \n",
    "        μ (obs) = {resultsS_5_6_e[0]}\n",
    "        μ (exp) = {resultsS_5_6_e[1]}\n",
    "        p-value = {resultsS_5_6_e[2]}\n",
    "        \n",
    "      \"\"\")"
   ]
  },
  {
   "cell_type": "markdown",
   "metadata": {},
   "source": [
    "## $\\mu + e$ analysis"
   ]
  },
  {
   "cell_type": "code",
   "execution_count": 7,
   "metadata": {},
   "outputs": [
    {
     "name": "stdout",
     "output_type": "stream",
     "text": [
      "Upper limit (obs): μ = 0.0258\n",
      "Upper limit (exp): μ = 0.0268\n",
      "Upper limit (obs): μ = 0.3052\n",
      "Upper limit (exp): μ = 0.3465\n"
     ]
    }
   ],
   "source": [
    "resultsS_3_8_comb = statisticalAnalysis(list(Data_e)+list(Data_mu), list(signal_e_Wp_3_8)+list(signal_mu_Wp_3_8), list(bkg_e)+list(bkg_mu), list(bkg_err_e)+list(bkg_err_mu))\n",
    "resultsS_5_6_comb = statisticalAnalysis(list(Data_e)+list(Data_mu), list(signal_e_Wp_5_6)+list(signal_mu_Wp_5_6), list(bkg_e)+list(bkg_mu), list(bkg_err_e)+list(bkg_err_mu))"
   ]
  },
  {
   "cell_type": "code",
   "execution_count": 8,
   "metadata": {},
   "outputs": [
    {
     "name": "stdout",
     "output_type": "stream",
     "text": [
      "\n",
      "        \n",
      "    W' 3.8 TeV     \n",
      "        μ (obs) = 0.025803628080619517\n",
      "        μ (exp) = 0.026760881410893684\n",
      "        p-value = 3.3900425790077486e-110\n",
      "    \n",
      "    W' 5.6 TeV \n",
      "        μ (obs) = 0.30522898734688514\n",
      "        μ (exp) = 0.3465001099029279\n",
      "        p-value = 8.576360020808504e-05\n",
      "        \n",
      "      \n"
     ]
    }
   ],
   "source": [
    "print(f\"\"\"\n",
    "        \n",
    "    W' 3.8 TeV     \n",
    "        μ (obs) = {resultsS_3_8_comb[0]}\n",
    "        μ (exp) = {resultsS_3_8_comb[1]}\n",
    "        p-value = {resultsS_3_8_comb[2]}\n",
    "    \n",
    "    W' 5.6 TeV \n",
    "        μ (obs) = {resultsS_5_6_comb[0]}\n",
    "        μ (exp) = {resultsS_5_6_comb[1]}\n",
    "        p-value = {resultsS_5_6_comb[2]}\n",
    "        \n",
    "      \"\"\")"
   ]
  }
 ],
 "metadata": {
  "kernelspec": {
   "display_name": "Python 3",
   "language": "python",
   "name": "python3"
  },
  "language_info": {
   "codemirror_mode": {
    "name": "ipython",
    "version": 3
   },
   "file_extension": ".py",
   "mimetype": "text/x-python",
   "name": "python",
   "nbconvert_exporter": "python",
   "pygments_lexer": "ipython3",
   "version": "3.10.13"
  }
 },
 "nbformat": 4,
 "nbformat_minor": 2
}
