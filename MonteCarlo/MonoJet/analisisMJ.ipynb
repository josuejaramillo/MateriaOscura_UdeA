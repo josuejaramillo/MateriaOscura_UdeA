{
 "cells": [
  {
   "cell_type": "code",
   "execution_count": 1,
   "metadata": {},
   "outputs": [],
   "source": [
    "import matplotlib.pyplot as plt\n",
    "import numpy as np\n",
    "import pandas as pd\n",
    "import json\n",
    "import pyhf\n",
    "from pyhf.contrib.viz import brazil"
   ]
  },
  {
   "cell_type": "code",
   "execution_count": 2,
   "metadata": {},
   "outputs": [],
   "source": [
    "MJ = pd.read_csv('../../mu_for_monojet/MJData.csv')\n",
    "bkg = MJ[\"MJ_bkg\"]\n",
    "bkgerr = MJ[\"MJ_errbkg\"]\n",
    "data = MJ[\"MJ_data\"]\n",
    "\n",
    "#Montecarlo\n",
    "\n",
    "MCBM1 = pd.read_csv(\"./pt_miss_histogram_monojet_BM1.csv\").drop(columns = \"Unnamed: 0\")\n",
    "MCBM2 = pd.read_csv(\"./pt_miss_histogram_monojet_BM2.csv\").drop(columns = \"Unnamed: 0\")\n",
    "\n",
    "MC_Signal_BM1 = MCBM1[\"counts\"]\n",
    "MC_Signal_BM2 = MCBM2[\"counts\"]"
   ]
  },
  {
   "attachments": {},
   "cell_type": "markdown",
   "metadata": {},
   "source": [
    "## Benchmark 1\n"
   ]
  },
  {
   "cell_type": "code",
   "execution_count": 4,
   "metadata": {},
   "outputs": [
    {
     "name": "stdout",
     "output_type": "stream",
     "text": [
      "Upper limit (obs): μ = 5.0000\n",
      "Upper limit (exp): μ = 5.0000\n",
      "p-value =  0.5\n"
     ]
    }
   ],
   "source": [
    "modelBM1 = pyhf.simplemodels.uncorrelated_background(\n",
    "    signal=list(MC_Signal_BM1), bkg=list(bkg), bkg_uncertainty=list(bkgerr)\n",
    ")\n",
    "\n",
    "observationsBM1 = np.concatenate((data, modelBM1.config.auxdata))\n",
    "\n",
    "poi_values = np.linspace(0.1, 5, 50)\n",
    "obs_limit1, exp_limits1, (scan, results) = pyhf.infer.intervals.upper_limits.upper_limit(\n",
    "    observationsBM1, modelBM1, poi_values, level=0.05, return_results=True\n",
    ")\n",
    "print(f\"Upper limit (obs): μ = {obs_limit1:.4f}\")\n",
    "print(f\"Upper limit (exp): μ = {exp_limits1[2]:.4f}\")\n",
    "\n",
    "#p-value\n",
    "pvalue1 = pyhf.infer.hypotest(\n",
    "    1, observationsBM1, modelBM1, return_expected_set=True, return_tail_probs = True\n",
    ")[1][0]\n",
    "print(\"p-value = \", pvalue1)"
   ]
  },
  {
   "attachments": {},
   "cell_type": "markdown",
   "metadata": {},
   "source": [
    "## Benchmark 2"
   ]
  },
  {
   "cell_type": "code",
   "execution_count": 5,
   "metadata": {},
   "outputs": [
    {
     "name": "stdout",
     "output_type": "stream",
     "text": [
      "Upper limit (obs): μ = 5.0000\n",
      "Upper limit (exp): μ = 5.0000\n",
      "p-value =  0.5\n"
     ]
    }
   ],
   "source": [
    "modelBM2 = pyhf.simplemodels.uncorrelated_background(\n",
    "    signal=list(MC_Signal_BM2), bkg=list(bkg), bkg_uncertainty=list(bkgerr)\n",
    ")\n",
    "\n",
    "observationsBM2 = np.concatenate((data, modelBM2.config.auxdata))\n",
    "\n",
    "poi_values = np.linspace(0.1, 5, 50)\n",
    "obs_limit2, exp_limits2, (scan, results) = pyhf.infer.intervals.upper_limits.upper_limit(\n",
    "    observationsBM2, modelBM2, poi_values, level=0.05, return_results=True\n",
    ")\n",
    "print(f\"Upper limit (obs): μ = {obs_limit1:.4f}\")\n",
    "print(f\"Upper limit (exp): μ = {exp_limits1[2]:.4f}\")\n",
    "\n",
    "#p-value\n",
    "pvalue2 = pyhf.infer.hypotest(\n",
    "    1, observationsBM2, modelBM2, return_expected_set=True, return_tail_probs = True\n",
    ")[1][0]\n",
    "print(\"p-value = \", pvalue2)"
   ]
  },
  {
   "cell_type": "code",
   "execution_count": null,
   "metadata": {},
   "outputs": [],
   "source": []
  }
 ],
 "metadata": {
  "kernelspec": {
   "display_name": "Python 3",
   "language": "python",
   "name": "python3"
  },
  "language_info": {
   "codemirror_mode": {
    "name": "ipython",
    "version": 3
   },
   "file_extension": ".py",
   "mimetype": "text/x-python",
   "name": "python",
   "nbconvert_exporter": "python",
   "pygments_lexer": "ipython3",
   "version": "3.10.8"
  },
  "orig_nbformat": 4,
  "vscode": {
   "interpreter": {
    "hash": "916dbcbb3f70747c44a77c7bcd40155683ae19c65e1c03b4aa3499c5328201f1"
   }
  }
 },
 "nbformat": 4,
 "nbformat_minor": 2
}
