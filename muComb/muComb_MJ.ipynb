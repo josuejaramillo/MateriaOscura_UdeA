{
 "cells": [
  {
   "attachments": {},
   "cell_type": "markdown",
   "metadata": {},
   "source": [
    "## Calculo de mu combinando Monojet y Dijet"
   ]
  },
  {
   "cell_type": "code",
   "execution_count": 1,
   "metadata": {},
   "outputs": [],
   "source": [
    "import pyhf\n",
    "import numpy as np\n",
    "import pandas as pd\n",
    "import matplotlib.pyplot as plt\n",
    "from pyhf.contrib.viz import brazil"
   ]
  },
  {
   "cell_type": "code",
   "execution_count": 2,
   "metadata": {},
   "outputs": [],
   "source": [
    "#Lectura de datos\n",
    "VBF = pd.read_csv(\"../mu_for_VBF/VBFData.csv\")\n",
    "MJ = pd.read_csv(\"../mu_for_monojet/MJData.csv\")\n",
    "DJ = pd.read_csv(\"../mu_for_Dijet/DJData.csv\")"
   ]
  },
  {
   "cell_type": "code",
   "execution_count": 3,
   "metadata": {},
   "outputs": [],
   "source": [
    "bkg = np.concatenate((VBF[\"VBF_bkg\"], DJ[\"DJ_bkg\"], MJ[\"MJ_bkg\"]), axis=None)\n",
    "errbkg = np.concatenate((VBF[\"VBF_errbkg\"], DJ[\"DJ_errbkg\"], MJ[\"MJ_errbkg\"]), axis=None)\n",
    "Data = np.concatenate((VBF[\"VBF_data\"], DJ[\"DJ_data\"], MJ[\"MJ_data\"]), axis=None)\n",
    "sl = np.concatenate((VBF[\"VBF_ldecays\"], DJ[\"DJ_signal\"], MJ[\"MJ_axial\"]), axis=None)\n",
    "WZ = np.concatenate((VBF[\"VBF_WZdecays\"], DJ[\"DJ_signal\"], MJ[\"MJ_axial\"]), axis=None)"
   ]
  },
  {
   "cell_type": "code",
   "execution_count": 4,
   "metadata": {},
   "outputs": [],
   "source": [
    "model1 = pyhf.simplemodels.uncorrelated_background(signal = list(sl), bkg = list(bkg), bkg_uncertainty = list(errbkg))\n",
    "model2 = pyhf.simplemodels.uncorrelated_background(signal = list(WZ), bkg = list(bkg), bkg_uncertainty = list(errbkg))"
   ]
  },
  {
   "cell_type": "code",
   "execution_count": 5,
   "metadata": {},
   "outputs": [],
   "source": [
    "observations1 = np.concatenate((Data, model1.config.auxdata)) #Observaciones modelo 1 - Señal sl (VBF) / Señal axial (MJ)\n",
    "observations2 = np.concatenate((Data, model2.config.auxdata)) #Observaciones modelo 2 - Señal WZ (VBF) / Señal axial (MJ)\n"
   ]
  },
  {
   "cell_type": "code",
   "execution_count": 9,
   "metadata": {},
   "outputs": [
    {
     "name": "stdout",
     "output_type": "stream",
     "text": [
      "Señal sl (VBF) / Señal axial (MJ)\n",
      "Upper limit (obs): μ = 0.2357\n",
      "Upper limit (exp): μ = 0.2366\n"
     ]
    }
   ],
   "source": [
    "#Calculamos el mu observado y esperado\n",
    "poi_values = np.linspace(0.01, 2, 100)\n",
    "\n",
    "observations1 = np.concatenate((Data, model1.config.auxdata)) #Observaciones modelo 1 - Señal sl (VBF) / Señal axial (MJ)\n",
    "\n",
    "#Limites - sl\n",
    "obs_limit1, exp_limits1, (scan1, results1) = pyhf.infer.intervals.upper_limits.upper_limit(\n",
    "    observations1, model1, poi_values, level=0.05, return_results=True\n",
    ")\n",
    "\n",
    "print(\"Señal sl (VBF) / Señal axial (MJ)\")\n",
    "print(f\"Upper limit (obs): μ = {obs_limit1:.4f}\")\n",
    "print(f\"Upper limit (exp): μ = {exp_limits1[2]:.4f}\")"
   ]
  },
  {
   "cell_type": "code",
   "execution_count": 10,
   "metadata": {},
   "outputs": [
    {
     "name": "stdout",
     "output_type": "stream",
     "text": [
      "Señal WZ (VBF) / Señal axial (MJ)\n",
      "Upper limit (obs): μ = 0.2386\n",
      "Upper limit (exp): μ = 0.2364\n"
     ]
    }
   ],
   "source": [
    "poi_values = np.linspace(0.01, 2, 100)\n",
    "observations2 = np.concatenate((Data, model2.config.auxdata)) #Observaciones modelo 2 - Señal WZ (VBF) / Señal axial (MJ)\n",
    "\n",
    "#Limites - WZ\n",
    "obs_limit2, exp_limits2, (scan2, results2) = pyhf.infer.intervals.upper_limits.upper_limit(\n",
    "    observations2, model2, poi_values, level=0.05, return_results=True\n",
    ")\n",
    "\n",
    "print(\"Señal WZ (VBF) / Señal axial (MJ)\")\n",
    "print(f\"Upper limit (obs): μ = {obs_limit2:.4f}\")\n",
    "print(f\"Upper limit (exp): μ = {exp_limits2[2]:.4f}\")"
   ]
  },
  {
   "cell_type": "code",
   "execution_count": 12,
   "metadata": {},
   "outputs": [
    {
     "name": "stdout",
     "output_type": "stream",
     "text": [
      "Señal sl (VBF) / Señal axial (MJ)\n",
      "  CLs (obs): Cls = 0.0486\n",
      "  CLs (exp): CLs (0σ) = 0.0494\n",
      "Señal WZ (VBF) / Señal axial (MJ)\n",
      "  CLs (obs): Cls = 0.0514\n",
      "  CLs (exp): CLs (0σ) = 0.0495\n"
     ]
    }
   ],
   "source": [
    "#Calculo del p-value\n",
    "CLs_obs1, tails1 ,CLs_exp_band1 = pyhf.infer.hypotest(\n",
    "    0.2366, observations1, model1, return_expected_set=True, return_tail_probs = True\n",
    ")\n",
    "\n",
    "print(\"Señal sl (VBF) / Señal axial (MJ)\")\n",
    "print(f\"  CLs (obs): Cls = {CLs_obs1:.4f}\")\n",
    "print(f\"  CLs (exp): CLs (0σ) = {CLs_exp_band1[2]:.4f}\")\n",
    "\n",
    "CLs_obs2, tails2, CLs_exp_band2 = pyhf.infer.hypotest(\n",
    "    0.2364, observations2, model2, return_expected_set=True, return_tail_probs = True\n",
    ")\n",
    "\n",
    "print(\"Señal WZ (VBF) / Señal axial (MJ)\")\n",
    "print(f\"  CLs (obs): Cls = {CLs_obs2:.4f}\")\n",
    "print(f\"  CLs (exp): CLs (0σ) = {CLs_exp_band2[2]:.4f}\")"
   ]
  },
  {
   "cell_type": "code",
   "execution_count": 16,
   "metadata": {},
   "outputs": [
    {
     "name": "stdout",
     "output_type": "stream",
     "text": [
      "  p-value (sl) = 2.1381217011527101e-16\n",
      "  p-value (WZ) = 2.735577673476437e-16\n"
     ]
    }
   ],
   "source": [
    "pvalueM1 = pyhf.infer.hypotest(\n",
    "    1.0, observations1, model1, return_expected_set=True, return_tail_probs = True\n",
    ")[1][0]\n",
    "\n",
    "pvalueM2 = pyhf.infer.hypotest(\n",
    "    1.0, observations2, model2, return_expected_set=True, return_tail_probs = True\n",
    ")[1][0]\n",
    "\n",
    "print(f\"  p-value (sl) = {pvalueM1}\")\n",
    "print(f\"  p-value (WZ) = {pvalueM2}\")\n"
   ]
  },
  {
   "cell_type": "code",
   "execution_count": 21,
   "metadata": {},
   "outputs": [],
   "source": [
    "pValSpace = np.linspace(0,1, 50)\n",
    "pVals = np.ones_like(pValSpace)\n",
    "for i in range(len(pValSpace)):\n",
    "    pVals[i] =  pyhf.infer.hypotest(\n",
    "    pValSpace[i], observations1, model1, return_expected_set=True, return_tail_probs = True\n",
    "    )[1][0]"
   ]
  },
  {
   "cell_type": "code",
   "execution_count": 22,
   "metadata": {},
   "outputs": [
    {
     "data": {
      "text/plain": [
       "Text(0, 0.5, '$p-value$')"
      ]
     },
     "execution_count": 22,
     "metadata": {},
     "output_type": "execute_result"
    },
    {
     "data": {
      "image/png": "[encoded data removed]",
      "text/plain": [
       "<Figure size 640x480 with 1 Axes>"
      ]
     },
     "metadata": {},
     "output_type": "display_data"
    }
   ],
   "source": [
    "plt.plot(pValSpace, pVals, 'r-')\n",
    "plt.xlabel(\"$\\mu$\")\n",
    "plt.ylabel(\"$p-value$\")"
   ]
  },
  {
   "cell_type": "code",
   "execution_count": 18,
   "metadata": {},
   "outputs": [
    {
     "data": {
      "text/plain": [
       "(array(0.04925158),\n",
       " [array(0.02511244), array(0.50988097)],\n",
       " [array(0.00149678),\n",
       "  array(0.00900101),\n",
       "  array(0.04738819),\n",
       "  array(0.19355853),\n",
       "  array(0.5186553)])"
      ]
     },
     "execution_count": 18,
     "metadata": {},
     "output_type": "execute_result"
    }
   ],
   "source": [
    "pyhf.infer.hypotest(\n",
    "    0.2386, observations2, model2, return_expected_set=True, return_tail_probs = True\n",
    ")\n"
   ]
  },
  {
   "attachments": {},
   "cell_type": "markdown",
   "metadata": {},
   "source": [
    "p-value debe ser pequeño para cl_s+b"
   ]
  }
 ],
 "metadata": {
  "kernelspec": {
   "display_name": "venv",
   "language": "python",
   "name": "python3"
  },
  "language_info": {
   "codemirror_mode": {
    "name": "ipython",
    "version": 3
   },
   "file_extension": ".py",
   "mimetype": "text/x-python",
   "name": "python",
   "nbconvert_exporter": "python",
   "pygments_lexer": "ipython3",
   "version": "3.10.6"
  },
  "orig_nbformat": 4
 },
 "nbformat": 4,
 "nbformat_minor": 2
}
