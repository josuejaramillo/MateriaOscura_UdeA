{
 "cells": [
  {
   "attachments": {},
   "cell_type": "markdown",
   "metadata": {},
   "source": [
    "## Calculo de mu combinando Monojet y Dijet"
   ]
  },
  {
   "cell_type": "code",
   "execution_count": 5,
   "metadata": {},
   "outputs": [],
   "source": [
    "import pyhf\n",
    "import numpy as np\n",
    "import pandas as pd\n",
    "import matplotlib.pyplot as plt\n",
    "from pyhf.contrib.viz import brazil"
   ]
  },
  {
   "cell_type": "code",
   "execution_count": 6,
   "metadata": {},
   "outputs": [],
   "source": [
    "#Lectura de datos\n",
    "VBF = pd.read_csv(\"../mu_for_VBF/VBFData.csv\")\n",
    "MJ = pd.read_csv(\"../mu_for_monojet/MJData.csv\")\n",
    "DJ = pd.read_csv(\"../mu_for_Dijet/DJData.csv\")"
   ]
  },
  {
   "cell_type": "code",
   "execution_count": 7,
   "metadata": {},
   "outputs": [],
   "source": [
    "bkg = np.concatenate((VBF[\"VBF_bkg\"], DJ[\"DJ_bkg\"], MJ[\"MJ_bkg\"]), axis=None)\n",
    "errbkg = np.concatenate((VBF[\"VBF_errbkg\"], DJ[\"DJ_errbkg\"], MJ[\"MJ_errbkg\"]), axis=None)\n",
    "Data = np.concatenate((VBF[\"VBF_data\"], DJ[\"DJ_data\"], MJ[\"MJ_data\"]), axis=None)\n",
    "sl = np.concatenate((VBF[\"VBF_ldecays\"], DJ[\"DJ_signal\"], MJ[\"MJ_axial\"]), axis=None)\n",
    "WZ = np.concatenate((VBF[\"VBF_WZdecays\"], DJ[\"DJ_signal\"], MJ[\"MJ_axial\"]), axis=None)"
   ]
  },
  {
   "cell_type": "code",
   "execution_count": 8,
   "metadata": {},
   "outputs": [],
   "source": [
    "model1 = pyhf.simplemodels.uncorrelated_background(signal = list(sl), bkg = list(bkg), bkg_uncertainty = list(errbkg))\n",
    "model2 = pyhf.simplemodels.uncorrelated_background(signal = list(WZ), bkg = list(bkg), bkg_uncertainty = list(errbkg))"
   ]
  },
  {
   "cell_type": "code",
   "execution_count": 9,
   "metadata": {},
   "outputs": [
    {
     "name": "stdout",
     "output_type": "stream",
     "text": [
      "Señal sl (VBF) / Señal axial (MJ)\n",
      "Upper limit (obs): μ = 0.2357\n",
      "Upper limit (exp): μ = 0.2366\n"
     ]
    }
   ],
   "source": [
    "#Calculamos el mu observado y esperado\n",
    "poi_values = np.linspace(0.01, 2, 100)\n",
    "\n",
    "observations1 = np.concatenate((Data, model1.config.auxdata)) #Observaciones modelo 1 - Señal sl (VBF) / Señal axial (MJ)\n",
    "\n",
    "#Limites - sl\n",
    "obs_limit1, exp_limits1, (scan1, results1) = pyhf.infer.intervals.upper_limits.upper_limit(\n",
    "    observations1, model1, poi_values, level=0.05, return_results=True\n",
    ")\n",
    "\n",
    "print(\"Señal sl (VBF) / Señal axial (MJ)\")\n",
    "print(f\"Upper limit (obs): μ = {obs_limit1:.4f}\")\n",
    "print(f\"Upper limit (exp): μ = {exp_limits1[2]:.4f}\")"
   ]
  },
  {
   "cell_type": "code",
   "execution_count": 10,
   "metadata": {},
   "outputs": [
    {
     "name": "stdout",
     "output_type": "stream",
     "text": [
      "Señal WZ (VBF) / Señal axial (MJ)\n",
      "Upper limit (obs): μ = 0.2386\n",
      "Upper limit (exp): μ = 0.2364\n"
     ]
    }
   ],
   "source": [
    "poi_values = np.linspace(0.01, 2, 100)\n",
    "observations2 = np.concatenate((Data, model2.config.auxdata)) #Observaciones modelo 2 - Señal WZ (VBF) / Señal axial (MJ)\n",
    "\n",
    "#Limites - WZ\n",
    "obs_limit2, exp_limits2, (scan2, results2) = pyhf.infer.intervals.upper_limits.upper_limit(\n",
    "    observations2, model2, poi_values, level=0.05, return_results=True\n",
    ")\n",
    "\n",
    "print(\"Señal WZ (VBF) / Señal axial (MJ)\")\n",
    "print(f\"Upper limit (obs): μ = {obs_limit2:.4f}\")\n",
    "print(f\"Upper limit (exp): μ = {exp_limits2[2]:.4f}\")"
   ]
  },
  {
   "cell_type": "code",
   "execution_count": 11,
   "metadata": {},
   "outputs": [
    {
     "name": "stdout",
     "output_type": "stream",
     "text": [
      "Señal sl (VBF) / Señal axial (MJ)\n",
      "  CLs (obs): Cls = 0.0495\n",
      "  CLs (exp): CLs (0σ) = 0.0503\n",
      "Señal WZ (VBF) / Señal axial (MJ)\n",
      "  CLs (obs): Cls = 0.0493\n",
      "  CLs (exp): CLs (0σ) = 0.0474\n"
     ]
    }
   ],
   "source": [
    "#Calculo del p-value\n",
    "CLs_obs1, CLs_exp_band1 = pyhf.infer.hypotest(\n",
    "    obs_limit1, observations1, model1, return_expected_set=True\n",
    ")\n",
    "\n",
    "print(\"Señal sl (VBF) / Señal axial (MJ)\")\n",
    "print(f\"  CLs (obs): Cls = {CLs_obs1:.4f}\")\n",
    "print(f\"  CLs (exp): CLs (0σ) = {CLs_exp_band1[2]:.4f}\")\n",
    "\n",
    "CLs_obs2, CLs_exp_band2 = pyhf.infer.hypotest(\n",
    "    obs_limit2, observations2, model2, return_expected_set=True\n",
    ")\n",
    "\n",
    "print(\"Señal WZ (VBF) / Señal axial (MJ)\")\n",
    "print(f\"  CLs (obs): Cls = {CLs_obs2:.4f}\")\n",
    "print(f\"  CLs (exp): CLs (0σ) = {CLs_exp_band2[2]:.4f}\")"
   ]
  }
 ],
 "metadata": {
  "kernelspec": {
   "display_name": "venv",
   "language": "python",
   "name": "python3"
  },
  "language_info": {
   "codemirror_mode": {
    "name": "ipython",
    "version": 3
   },
   "file_extension": ".py",
   "mimetype": "text/x-python",
   "name": "python",
   "nbconvert_exporter": "python",
   "pygments_lexer": "ipython3",
   "version": "3.10.6"
  },
  "orig_nbformat": 4
 },
 "nbformat": 4,
 "nbformat_minor": 2
}
