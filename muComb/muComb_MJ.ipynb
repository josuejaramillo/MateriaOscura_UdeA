{
 "cells": [
  {
   "attachments": {},
   "cell_type": "markdown",
   "metadata": {},
   "source": [
    "## Calculo de mu combinando Monojet y Dijet"
   ]
  },
  {
   "cell_type": "code",
   "execution_count": 3,
   "metadata": {},
   "outputs": [
    {
     "name": "stdout",
     "output_type": "stream",
     "text": [
      "Defaulting to user installation because normal site-packages is not writeable\n",
      "Collecting pyhf\n",
      "  Downloading pyhf-0.7.1-py3-none-any.whl (159 kB)\n",
      "\u001b[2K     \u001b[90m━━━━━━━━━━━━━━━━━━━━━━━━━━━━━━━━━━━━━━\u001b[0m \u001b[32m159.2/159.2 KB\u001b[0m \u001b[31m96.3 kB/s\u001b[0m eta \u001b[36m0:00:00\u001b[0ma \u001b[36m0:00:01\u001b[0m\n",
      "\u001b[?25hRequirement already satisfied: numpy in /home/josue/.local/lib/python3.10/site-packages (from pyhf) (1.24.3)\n",
      "Requirement already satisfied: click>=8.0.0 in /usr/lib/python3/dist-packages (from pyhf) (8.0.3)\n",
      "Collecting scipy>=1.2.0\n",
      "  Downloading scipy-1.10.1-cp310-cp310-manylinux_2_17_x86_64.manylinux2014_x86_64.whl (34.4 MB)\n",
      "\u001b[2K     \u001b[90m━━━━━━━━━━━━━━━━━━━━━━━━━━━━━━━━━━━━━━━\u001b[0m \u001b[32m34.4/34.4 MB\u001b[0m \u001b[31m169.5 kB/s\u001b[0m eta \u001b[36m0:00:00\u001b[0m00:01\u001b[0m00:06\u001b[0m\n",
      "\u001b[?25hCollecting tqdm>=4.56.0\n",
      "  Downloading tqdm-4.65.0-py3-none-any.whl (77 kB)\n",
      "\u001b[2K     \u001b[90m━━━━━━━━━━━━━━━━━━━━━━━━━━━━━━━━━━━━━━━\u001b[0m \u001b[32m77.1/77.1 KB\u001b[0m \u001b[31m227.4 kB/s\u001b[0m eta \u001b[36m0:00:00\u001b[0ma \u001b[36m0:00:01\u001b[0m\n",
      "\u001b[?25hRequirement already satisfied: jsonschema>=4.15.0 in /home/josue/.local/lib/python3.10/site-packages (from pyhf) (4.17.3)\n",
      "Collecting jsonpatch>=1.15\n",
      "  Using cached jsonpatch-1.32-py2.py3-none-any.whl (12 kB)\n",
      "Requirement already satisfied: pyyaml>=5.1 in /usr/lib/python3/dist-packages (from pyhf) (5.4.1)\n",
      "Requirement already satisfied: jsonpointer>=1.9 in /home/josue/.local/lib/python3.10/site-packages (from jsonpatch>=1.15->pyhf) (2.3)\n",
      "Requirement already satisfied: pyrsistent!=0.17.0,!=0.17.1,!=0.17.2,>=0.14.0 in /home/josue/.local/lib/python3.10/site-packages (from jsonschema>=4.15.0->pyhf) (0.19.3)\n",
      "Requirement already satisfied: attrs>=17.4.0 in /home/josue/.local/lib/python3.10/site-packages (from jsonschema>=4.15.0->pyhf) (22.2.0)\n",
      "Installing collected packages: tqdm, scipy, jsonpatch, pyhf\n",
      "Successfully installed jsonpatch-1.32 pyhf-0.7.1 scipy-1.10.1 tqdm-4.65.0\n"
     ]
    }
   ],
   "source": [
    "!pip install pyhf"
   ]
  },
  {
   "cell_type": "code",
   "execution_count": 4,
   "metadata": {},
   "outputs": [],
   "source": [
    "import pyhf\n",
    "import numpy as np\n",
    "import pandas as pd\n",
    "import matplotlib.pyplot as plt\n",
    "from pyhf.contrib.viz import brazil"
   ]
  },
  {
   "cell_type": "code",
   "execution_count": 6,
   "metadata": {},
   "outputs": [],
   "source": [
    "#Lectura de datos\n",
    "VBF = pd.read_csv(\"../mu_for_VBF/VBFData.csv\")\n",
    "MJ = pd.read_csv(\"../mu_for_monojet/MJData.csv\")\n",
    "DJ = pd.read_csv(\"../mu_for_Dijet/DJData.csv\")"
   ]
  },
  {
   "cell_type": "code",
   "execution_count": 7,
   "metadata": {},
   "outputs": [],
   "source": [
    "bkg = np.concatenate((VBF[\"VBF_bkg\"], DJ[\"DJ_bkg\"], MJ[\"MJ_bkg\"]), axis=None)\n",
    "errbkg = np.concatenate((VBF[\"VBF_errbkg\"], DJ[\"DJ_errbkg\"], MJ[\"MJ_errbkg\"]), axis=None)\n",
    "Data = np.concatenate((VBF[\"VBF_data\"], DJ[\"DJ_data\"], MJ[\"MJ_data\"]), axis=None)\n",
    "sl = np.concatenate((VBF[\"VBF_ldecays\"], DJ[\"DJ_signal\"], MJ[\"MJ_axial\"]), axis=None)\n",
    "WZ = np.concatenate((VBF[\"VBF_WZdecays\"], DJ[\"DJ_signal\"], MJ[\"MJ_axial\"]), axis=None)"
   ]
  },
  {
   "cell_type": "code",
   "execution_count": 8,
   "metadata": {},
   "outputs": [],
   "source": [
    "model1 = pyhf.simplemodels.uncorrelated_background(signal = list(sl), bkg = list(bkg), bkg_uncertainty = list(errbkg))\n",
    "model2 = pyhf.simplemodels.uncorrelated_background(signal = list(WZ), bkg = list(bkg), bkg_uncertainty = list(errbkg))"
   ]
  },
  {
   "cell_type": "code",
   "execution_count": 9,
   "metadata": {},
   "outputs": [],
   "source": [
    "observations1 = np.concatenate((Data, model1.config.auxdata)) #Observaciones modelo 1 - Señal sl (VBF) / Señal axial (MJ)\n",
    "observations2 = np.concatenate((Data, model2.config.auxdata)) #Observaciones modelo 2 - Señal WZ (VBF) / Señal axial (MJ)\n"
   ]
  },
  {
   "cell_type": "code",
   "execution_count": 9,
   "metadata": {},
   "outputs": [
    {
     "name": "stdout",
     "output_type": "stream",
     "text": [
      "Señal sl (VBF) / Señal axial (MJ)\n",
      "Upper limit (obs): μ = 0.2357\n",
      "Upper limit (exp): μ = 0.2366\n"
     ]
    }
   ],
   "source": [
    "#Calculamos el mu observado y esperado\n",
    "poi_values = np.linspace(0.01, 2, 100)\n",
    "\n",
    "observations1 = np.concatenate((Data, model1.config.auxdata)) #Observaciones modelo 1 - Señal sl (VBF) / Señal axial (MJ)\n",
    "\n",
    "#Limites - sl\n",
    "obs_limit1, exp_limits1, (scan1, results1) = pyhf.infer.intervals.upper_limits.upper_limit(\n",
    "    observations1, model1, poi_values, level=0.05, return_results=True\n",
    ")\n",
    "\n",
    "print(\"Señal sl (VBF) / Señal axial (MJ)\")\n",
    "print(f\"Upper limit (obs): μ = {obs_limit1:.4f}\")\n",
    "print(f\"Upper limit (exp): μ = {exp_limits1[2]:.4f}\")"
   ]
  },
  {
   "cell_type": "code",
   "execution_count": 10,
   "metadata": {},
   "outputs": [
    {
     "name": "stdout",
     "output_type": "stream",
     "text": [
      "Señal WZ (VBF) / Señal axial (MJ)\n",
      "Upper limit (obs): μ = 0.2386\n",
      "Upper limit (exp): μ = 0.2364\n"
     ]
    }
   ],
   "source": [
    "poi_values = np.linspace(0.01, 2, 100)\n",
    "observations2 = np.concatenate((Data, model2.config.auxdata)) #Observaciones modelo 2 - Señal WZ (VBF) / Señal axial (MJ)\n",
    "\n",
    "#Limites - WZ\n",
    "obs_limit2, exp_limits2, (scan2, results2) = pyhf.infer.intervals.upper_limits.upper_limit(\n",
    "    observations2, model2, poi_values, level=0.05, return_results=True\n",
    ")\n",
    "\n",
    "print(\"Señal WZ (VBF) / Señal axial (MJ)\")\n",
    "print(f\"Upper limit (obs): μ = {obs_limit2:.4f}\")\n",
    "print(f\"Upper limit (exp): μ = {exp_limits2[2]:.4f}\")"
   ]
  },
  {
   "cell_type": "code",
   "execution_count": 12,
   "metadata": {},
   "outputs": [
    {
     "name": "stdout",
     "output_type": "stream",
     "text": [
      "Señal sl (VBF) / Señal axial (MJ)\n",
      "  CLs (obs): Cls = 0.0486\n",
      "  CLs (exp): CLs (0σ) = 0.0494\n",
      "Señal WZ (VBF) / Señal axial (MJ)\n",
      "  CLs (obs): Cls = 0.0514\n",
      "  CLs (exp): CLs (0σ) = 0.0495\n"
     ]
    }
   ],
   "source": [
    "#Calculo del p-value\n",
    "CLs_obs1, tails1 ,CLs_exp_band1 = pyhf.infer.hypotest(\n",
    "    0.2366, observations1, model1, return_expected_set=True, return_tail_probs = True\n",
    ")\n",
    "\n",
    "print(\"Señal sl (VBF) / Señal axial (MJ)\")\n",
    "print(f\"  CLs (obs): Cls = {CLs_obs1:.4f}\")\n",
    "print(f\"  CLs (exp): CLs (0σ) = {CLs_exp_band1[2]:.4f}\")\n",
    "\n",
    "CLs_obs2, tails2, CLs_exp_band2 = pyhf.infer.hypotest(\n",
    "    0.2364, observations2, model2, return_expected_set=True, return_tail_probs = True\n",
    ")\n",
    "\n",
    "print(\"Señal WZ (VBF) / Señal axial (MJ)\")\n",
    "print(f\"  CLs (obs): Cls = {CLs_obs2:.4f}\")\n",
    "print(f\"  CLs (exp): CLs (0σ) = {CLs_exp_band2[2]:.4f}\")"
   ]
  },
  {
   "cell_type": "code",
   "execution_count": 11,
   "metadata": {},
   "outputs": [
    {
     "data": {
      "text/plain": [
       "(array(0.04860155),\n",
       " [array(0.02408731), array(0.49560789)],\n",
       " [array(0.00161434),\n",
       "  array(0.00954475),\n",
       "  array(0.04943563),\n",
       "  array(0.19887055),\n",
       "  array(0.52600039)])"
      ]
     },
     "execution_count": 11,
     "metadata": {},
     "output_type": "execute_result"
    }
   ],
   "source": [
    "pyhf.infer.hypotest(\n",
    "    0.2366, observations1, model1, return_expected_set=True, return_tail_probs = True\n",
    ")\n"
   ]
  }
 ],
 "metadata": {
  "kernelspec": {
   "display_name": "venv",
   "language": "python",
   "name": "python3"
  },
  "language_info": {
   "codemirror_mode": {
    "name": "ipython",
    "version": 3
   },
   "file_extension": ".py",
   "mimetype": "text/x-python",
   "name": "python",
   "nbconvert_exporter": "python",
   "pygments_lexer": "ipython3",
   "version": "3.10.6"
  },
  "orig_nbformat": 4
 },
 "nbformat": 4,
 "nbformat_minor": 2
}
