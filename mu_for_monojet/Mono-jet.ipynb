{
 "cells": [
  {
   "cell_type": "code",
   "execution_count": 1,
   "metadata": {},
   "outputs": [],
   "source": [
    "import matplotlib.pyplot as plt\n",
    "import numpy as np\n",
    "import pandas as pd"
   ]
  },
  {
   "cell_type": "code",
   "execution_count": 2,
   "metadata": {},
   "outputs": [],
   "source": [
    "import json\n",
    "import pyhf\n",
    "from pyhf.contrib.viz import brazil"
   ]
  },
  {
   "cell_type": "code",
   "execution_count": 3,
   "metadata": {},
   "outputs": [],
   "source": [
    "data=pd.read_csv('Data.dat',sep=' ')\n",
    "background=pd.read_csv('Background.dat',sep=' ')\n",
    "signal1=pd.read_csv('Signal1Higgsdat',sep=' ')\n",
    "signal2=pd.read_csv('Signal2Axial.dat',sep=' ')"
   ]
  },
  {
   "cell_type": "code",
   "execution_count": 4,
   "metadata": {},
   "outputs": [],
   "source": [
    "background=background['y'].to_numpy()\n",
    "data=data['y'].to_numpy()\n",
    "signal1=signal1['y'].to_numpy()\n",
    "signal2=signal2['y'].to_numpy()"
   ]
  },
  {
   "cell_type": "code",
   "execution_count": 5,
   "metadata": {},
   "outputs": [
    {
     "data": {
      "text/plain": [
       "array(['101,07672522', '63,095734448', '41,5532169221', '25,6626987327',\n",
       "       '16,7207523245', '10,6636768725', '6,11007458456', '3,89670630675',\n",
       "       '2,79583558297', '1,39375374235', '1', '0,651558610364',\n",
       "       '0,0898438537235', '0,209377607319', '0,148625395482',\n",
       "       '0,129308748059', '0,188112911249', '0,0824667861422',\n",
       "       '0,0702282146558', '0,0328306188957', '0,0331841144493',\n",
       "       '0,0350095111427'], dtype=object)"
      ]
     },
     "execution_count": 5,
     "metadata": {},
     "output_type": "execute_result"
    }
   ],
   "source": [
    "signal1"
   ]
  },
  {
   "cell_type": "code",
   "execution_count": 6,
   "metadata": {},
   "outputs": [],
   "source": [
    "bkg=np.zeros_like(background)\n",
    "dt=np.zeros_like(data)\n",
    "s1=np.zeros_like(signal1)\n",
    "s2=np.zeros_like(signal2)\n",
    "for i in range(len(background)):\n",
    "    bkg[i]=float(background[i].replace(',','.'))\n",
    "    dt[i]=float(data[i].replace(',','.'))\n",
    "    s1[i]=float(signal1[i].replace(',','.'))\n",
    "    s2[i]=float(signal2[i].replace(',','.'))\n"
   ]
  },
  {
   "cell_type": "code",
   "execution_count": 7,
   "metadata": {},
   "outputs": [
    {
     "data": {
      "text/plain": [
       "22"
      ]
     },
     "execution_count": 7,
     "metadata": {},
     "output_type": "execute_result"
    }
   ],
   "source": [
    "factor=np.array([30,30,30,30,30,40,40,40,40,40,40,50,50,50,50,50,60,60,60,70,70,90])\n",
    "len(factor)"
   ]
  },
  {
   "cell_type": "code",
   "execution_count": 8,
   "metadata": {},
   "outputs": [],
   "source": [
    "s1=s1*factor\n",
    "s2=s2*factor\n",
    "dt=dt*factor\n",
    "bkg=dt*factor"
   ]
  },
  {
   "cell_type": "code",
   "execution_count": 9,
   "metadata": {},
   "outputs": [],
   "source": [
    "errbkg=np.ones_like(bkg)*0.2"
   ]
  },
  {
   "cell_type": "code",
   "execution_count": 10,
   "metadata": {},
   "outputs": [
    {
     "data": {
      "text/plain": [
       "array([4118201.8154550004, 2165897.291868, 1114976.631591,\n",
       "       625320.9435951001, 366053.7286953, 368901.72017439996,\n",
       "       202509.57585280002, 118546.14193935998, 69395.17654687999,\n",
       "       40622.92073951999, 27332.422300960003, 27529.63629475,\n",
       "       15943.775533425, 8846.616844675, 6081.161261825, 3676.053887725,\n",
       "       4655.114930123999, 2271.4464401279997, 1495.9158091956,\n",
       "       1460.8804750197003, 654.3008362736999, 2034.6280095230998],\n",
       "      dtype=object)"
      ]
     },
     "execution_count": 10,
     "metadata": {},
     "output_type": "execute_result"
    }
   ],
   "source": [
    "bkg"
   ]
  },
  {
   "cell_type": "code",
   "execution_count": 11,
   "metadata": {},
   "outputs": [
    {
     "data": {
      "text/plain": [
       "22"
      ]
     },
     "execution_count": 11,
     "metadata": {},
     "output_type": "execute_result"
    }
   ],
   "source": [
    "bkg1=np.array([132100,69900,36800,20780,12340,9160,5100,3000,1763,1032,683,554,322,178,122,74.5,77.8,38.4,25.1,21.1,9.4,22.6])\n",
    "observed=np.array([140642,73114,38321,21417,12525,9515,5174,2947,1777,1021,694,554,339,196,123,80,68,37,23,12,7,26])\n",
    "errbkg1=np.array([4000,2200,1100,630,400,320,200,120,79,48,37,28,19,13,8,6.6,7.2,4.8,3.4,3.0,1.9,3.0])\n",
    "len(errbkg1)"
   ]
  },
  {
   "cell_type": "code",
   "execution_count": 12,
   "metadata": {},
   "outputs": [
    {
     "name": "stdout",
     "output_type": "stream",
     "text": [
      "{\n",
      "  \"channels\": [\n",
      "    {\n",
      "      \"name\": \"singlechannel\",\n",
      "      \"samples\": [\n",
      "        {\n",
      "          \"name\": \"signal\",\n",
      "          \"data\": [\n",
      "            3032.3017566,\n",
      "            1892.87203344,\n",
      "            1246.596507663,\n",
      "            769.880961981,\n",
      "            501.622569735,\n",
      "            426.5470749,\n",
      "            244.4029833824,\n",
      "            155.86825227,\n",
      "            111.8334233188,\n",
      "            55.750149694,\n",
      "            40.0,\n",
      "            32.5779305182,\n",
      "            4.492192686175,\n",
      "            10.46888036595,\n",
      "            7.4312697741,\n",
      "            6.46543740295,\n",
      "            11.28677467494,\n",
      "            4.948007168532,\n",
      "            4.213692879348,\n",
      "            2.298143322699,\n",
      "            2.322888011451,\n",
      "            3.1508560028429997\n",
      "          ],\n",
      "          \"modifiers\": [\n",
      "            {\n",
      "              \"name\": \"mu\",\n",
      "              \"type\": \"normfactor\",\n",
      "              \"data\": null\n",
      "            }\n",
      "          ]\n",
      "        },\n",
      "        {\n",
      "          \"name\": \"background\",\n",
      "          \"data\": [\n",
      "            132100.0,\n",
      "            69900.0,\n",
      "            36800.0,\n",
      "            20780.0,\n",
      "            12340.0,\n",
      "            9160.0,\n",
      "            5100.0,\n",
      "            3000.0,\n",
      "            1763.0,\n",
      "            1032.0,\n",
      "            683.0,\n",
      "            554.0,\n",
      "            322.0,\n",
      "            178.0,\n",
      "            122.0,\n",
      "            74.5,\n",
      "            77.8,\n",
      "            38.4,\n",
      "            25.1,\n",
      "            21.1,\n",
      "            9.4,\n",
      "            22.6\n",
      "          ],\n",
      "          \"modifiers\": [\n",
      "            {\n",
      "              \"name\": \"uncorr_bkguncrt\",\n",
      "              \"type\": \"shapesys\",\n",
      "              \"data\": [\n",
      "                4000.0,\n",
      "                2200.0,\n",
      "                1100.0,\n",
      "                630.0,\n",
      "                400.0,\n",
      "                320.0,\n",
      "                200.0,\n",
      "                120.0,\n",
      "                79.0,\n",
      "                48.0,\n",
      "                37.0,\n",
      "                28.0,\n",
      "                19.0,\n",
      "                13.0,\n",
      "                8.0,\n",
      "                6.6,\n",
      "                7.2,\n",
      "                4.8,\n",
      "                3.4,\n",
      "                3.0,\n",
      "                1.9,\n",
      "                3.0\n",
      "              ]\n",
      "            }\n",
      "          ]\n",
      "        }\n",
      "      ]\n",
      "    }\n",
      "  ]\n",
      "}\n"
     ]
    }
   ],
   "source": [
    "model1 = pyhf.simplemodels.uncorrelated_background(\n",
    "    signal=s1.tolist(), bkg=bkg1.tolist(), bkg_uncertainty=errbkg1.tolist()\n",
    ") #creamos el modelo\n",
    "model1\n",
    "print(json.dumps(model1.spec, indent=2)) #Modelo"
   ]
  },
  {
   "cell_type": "code",
   "execution_count": 13,
   "metadata": {},
   "outputs": [
    {
     "name": "stdout",
     "output_type": "stream",
     "text": [
      "{\n",
      "  \"channels\": [\n",
      "    {\n",
      "      \"name\": \"singlechannel\",\n",
      "      \"samples\": [\n",
      "        {\n",
      "          \"name\": \"signal\",\n",
      "          \"data\": [\n",
      "            266.6603618025,\n",
      "            206.2198929354,\n",
      "            157.7798312658,\n",
      "            123.3317071704,\n",
      "            93.35648907839999,\n",
      "            97.2985801892,\n",
      "            75.24516449960001,\n",
      "            53.987417011599995,\n",
      "            40.0,\n",
      "            34.80125254216,\n",
      "            24.969441505160002,\n",
      "            28.04188562685,\n",
      "            18.46765976415,\n",
      "            16.59205722465,\n",
      "            12.16232252365,\n",
      "            8.72630663085,\n",
      "            7.2756563953799995,\n",
      "            5.001283609614,\n",
      "            4.351273348332,\n",
      "            3.7612361206,\n",
      "            2.8167558360340004,\n",
      "            5.499067126103999\n",
      "          ],\n",
      "          \"modifiers\": [\n",
      "            {\n",
      "              \"name\": \"mu\",\n",
      "              \"type\": \"normfactor\",\n",
      "              \"data\": null\n",
      "            }\n",
      "          ]\n",
      "        },\n",
      "        {\n",
      "          \"name\": \"background\",\n",
      "          \"data\": [\n",
      "            132100.0,\n",
      "            69900.0,\n",
      "            36800.0,\n",
      "            20780.0,\n",
      "            12340.0,\n",
      "            9160.0,\n",
      "            5100.0,\n",
      "            3000.0,\n",
      "            1763.0,\n",
      "            1032.0,\n",
      "            683.0,\n",
      "            554.0,\n",
      "            322.0,\n",
      "            178.0,\n",
      "            122.0,\n",
      "            74.5,\n",
      "            77.8,\n",
      "            38.4,\n",
      "            25.1,\n",
      "            21.1,\n",
      "            9.4,\n",
      "            22.6\n",
      "          ],\n",
      "          \"modifiers\": [\n",
      "            {\n",
      "              \"name\": \"uncorr_bkguncrt\",\n",
      "              \"type\": \"shapesys\",\n",
      "              \"data\": [\n",
      "                4000.0,\n",
      "                2200.0,\n",
      "                1100.0,\n",
      "                630.0,\n",
      "                400.0,\n",
      "                320.0,\n",
      "                200.0,\n",
      "                120.0,\n",
      "                79.0,\n",
      "                48.0,\n",
      "                37.0,\n",
      "                28.0,\n",
      "                19.0,\n",
      "                13.0,\n",
      "                8.0,\n",
      "                6.6,\n",
      "                7.2,\n",
      "                4.8,\n",
      "                3.4,\n",
      "                3.0,\n",
      "                1.9,\n",
      "                3.0\n",
      "              ]\n",
      "            }\n",
      "          ]\n",
      "        }\n",
      "      ]\n",
      "    }\n",
      "  ]\n",
      "}\n"
     ]
    }
   ],
   "source": [
    "model2 = pyhf.simplemodels.uncorrelated_background(\n",
    "    signal=s2.tolist(), bkg=bkg1.tolist(), bkg_uncertainty=errbkg1.tolist()\n",
    ") #creamos el modelo\n",
    "model2\n",
    "print(json.dumps(model2.spec, indent=2)) #Modelo"
   ]
  },
  {
   "cell_type": "code",
   "execution_count": 14,
   "metadata": {},
   "outputs": [],
   "source": [
    "init_pars1= model1.config.suggested_init()\n",
    "init_pars2 = model2.config.suggested_init()"
   ]
  },
  {
   "cell_type": "code",
   "execution_count": 15,
   "metadata": {},
   "outputs": [],
   "source": [
    "bkg_pars1= init_pars1.copy()\n",
    "bkg_pars1[model1.config.poi_index] = 0\n",
    "bkg_pars2= init_pars2.copy()\n",
    "bkg_pars2[model2.config.poi_index] = 0"
   ]
  },
  {
   "cell_type": "code",
   "execution_count": 16,
   "metadata": {},
   "outputs": [
    {
     "data": {
      "text/plain": [
       "array([-573.28565847])"
      ]
     },
     "execution_count": 16,
     "metadata": {},
     "output_type": "execute_result"
    }
   ],
   "source": [
    "#observaciones y pdf\n",
    "\n",
    "observations1 = observed.tolist() + model1.config.auxdata  # this is a common pattern!\n",
    "\n",
    "model1.logpdf(pars=bkg_pars1, data=observations1)\n",
    "\n"
   ]
  },
  {
   "cell_type": "code",
   "execution_count": 17,
   "metadata": {},
   "outputs": [
    {
     "data": {
      "text/plain": [
       "array([-573.28565847])"
      ]
     },
     "execution_count": 17,
     "metadata": {},
     "output_type": "execute_result"
    }
   ],
   "source": [
    "observations2 = observed.tolist() + model2.config.auxdata  # this is a common pattern!\n",
    "\n",
    "model2.logpdf(pars=bkg_pars2, data=observations2)\n"
   ]
  },
  {
   "cell_type": "code",
   "execution_count": 18,
   "metadata": {},
   "outputs": [
    {
     "name": "stdout",
     "output_type": "stream",
     "text": [
      "Upper limit (obs): μ = 0.7632\n",
      "Upper limit (exp): μ = 0.4762\n"
     ]
    }
   ],
   "source": [
    "poi_values1 = np.linspace(0.1, 5, 50)\n",
    "obs_limit1, exp_limits1, (scan, results) = pyhf.infer.intervals.upper_limits.upper_limit(\n",
    "    observations1, model1, poi_values1, level=0.05, return_results=True\n",
    ")\n",
    "print(f\"Upper limit (obs): μ = {obs_limit1:.4f}\")\n",
    "print(f\"Upper limit (exp): μ = {exp_limits1[2]:.4f}\")"
   ]
  },
  {
   "cell_type": "code",
   "execution_count": 19,
   "metadata": {},
   "outputs": [
    {
     "name": "stdout",
     "output_type": "stream",
     "text": [
      "Upper limit (obs): μ = 0.7567\n",
      "Upper limit (exp): μ = 0.6963\n"
     ]
    }
   ],
   "source": [
    "poi_values2 = np.linspace(0.1, 5, 50)\n",
    "obs_limit2, exp_limits2, (scan, results) = pyhf.infer.intervals.upper_limits.upper_limit(\n",
    "    observations2, model2, poi_values2, level=0.05, return_results=True\n",
    ")\n",
    "print(f\"Upper limit (obs): μ = {obs_limit2:.4f}\")\n",
    "print(f\"Upper limit (exp): μ = {exp_limits2[2]:.4f}\")"
   ]
  },
  {
   "cell_type": "code",
   "execution_count": null,
   "metadata": {},
   "outputs": [],
   "source": []
  }
 ],
 "metadata": {
  "kernelspec": {
   "display_name": "Python 3",
   "language": "python",
   "name": "python3"
  },
  "language_info": {
   "codemirror_mode": {
    "name": "ipython",
    "version": 3
   },
   "file_extension": ".py",
   "mimetype": "text/x-python",
   "name": "python",
   "nbconvert_exporter": "python",
   "pygments_lexer": "ipython3",
   "version": "3.10.6"
  },
  "orig_nbformat": 4,
  "vscode": {
   "interpreter": {
    "hash": "916dbcbb3f70747c44a77c7bcd40155683ae19c65e1c03b4aa3499c5328201f1"
   }
  }
 },
 "nbformat": 4,
 "nbformat_minor": 2
}
